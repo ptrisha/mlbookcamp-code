{
 "cells": [
  {
   "cell_type": "code",
   "execution_count": 1,
   "id": "65934d20",
   "metadata": {},
   "outputs": [
    {
     "name": "stderr",
     "output_type": "stream",
     "text": [
      "2022-11-30 22:32:13.666383: I tensorflow/core/platform/cpu_feature_guard.cc:193] This TensorFlow binary is optimized with oneAPI Deep Neural Network Library (oneDNN) to use the following CPU instructions in performance-critical operations:  AVX2 FMA\n",
      "To enable them in other operations, rebuild TensorFlow with the appropriate compiler flags.\n"
     ]
    }
   ],
   "source": [
    "# import libraries\n",
    "import numpy as np\n",
    "import tensorflow as tf\n",
    "from tensorflow import keras"
   ]
  },
  {
   "cell_type": "code",
   "execution_count": 2,
   "id": "cef02d10",
   "metadata": {},
   "outputs": [
    {
     "data": {
      "text/plain": [
       "'2.11.0'"
      ]
     },
     "execution_count": 2,
     "metadata": {},
     "output_type": "execute_result"
    }
   ],
   "source": [
    "tf.__version__"
   ]
  },
  {
   "cell_type": "markdown",
   "id": "2a2f67df",
   "metadata": {},
   "source": [
    "## Convert model from Keras to TF-Lite format"
   ]
  },
  {
   "cell_type": "code",
   "execution_count": 3,
   "id": "16775d47",
   "metadata": {},
   "outputs": [],
   "source": [
    "# load model\n",
    "model = keras.models.load_model('dino_dragon_10_0.899.h5')"
   ]
  },
  {
   "cell_type": "code",
   "execution_count": 4,
   "id": "83090233",
   "metadata": {},
   "outputs": [
    {
     "name": "stderr",
     "output_type": "stream",
     "text": [
      "WARNING:absl:Found untraced functions such as _jit_compiled_convolution_op while saving (showing 1 of 1). These functions will not be directly callable after loading.\n"
     ]
    },
    {
     "name": "stdout",
     "output_type": "stream",
     "text": [
      "INFO:tensorflow:Assets written to: /var/folders/q6/4vk5yrts387cp_3qs430rhqc0000gn/T/tmpwn4a10jm/assets\n"
     ]
    },
    {
     "name": "stderr",
     "output_type": "stream",
     "text": [
      "INFO:tensorflow:Assets written to: /var/folders/q6/4vk5yrts387cp_3qs430rhqc0000gn/T/tmpwn4a10jm/assets\n",
      "2022-11-30 22:32:50.912583: W tensorflow/compiler/mlir/lite/python/tf_tfl_flatbuffer_helpers.cc:362] Ignored output_format.\n",
      "2022-11-30 22:32:50.912833: W tensorflow/compiler/mlir/lite/python/tf_tfl_flatbuffer_helpers.cc:365] Ignored drop_control_dependency.\n"
     ]
    }
   ],
   "source": [
    "# convert\n",
    "\n",
    "converter = tf.lite.TFLiteConverter.from_keras_model(model)\n",
    "tflite_model = converter.convert()\n",
    "\n",
    "with open('dino_dragon_tflite', 'wb') as f_out:\n",
    "    f_out.write(tflite_model)"
   ]
  },
  {
   "cell_type": "code",
   "execution_count": 5,
   "id": "96e5b4af",
   "metadata": {},
   "outputs": [
    {
     "name": "stdout",
     "output_type": "stream",
     "text": [
      "total 262984\r\n",
      "-rw-r--r--@ 1 pllee  staff    86M Nov 30 14:28 dino_dragon_10_0.899.h5\r\n",
      "-rw-r--r--  1 pllee  staff    43M Nov 30 22:32 dino_dragon_tflite\r\n",
      "-rw-r--r--  1 pllee  staff    14K Nov 30 22:30 hw9.ipynb\r\n",
      "-rw-r--r--  1 pllee  staff   1.4K Nov 30 22:17 lambda_function.py\r\n"
     ]
    }
   ],
   "source": [
    "!ls -lh"
   ]
  },
  {
   "cell_type": "markdown",
   "id": "44dcfa8a",
   "metadata": {},
   "source": [
    "## Output index of the lite model"
   ]
  },
  {
   "cell_type": "code",
   "execution_count": 10,
   "id": "92781dd6",
   "metadata": {},
   "outputs": [],
   "source": [
    "# Restart the kernel here to run tflite_runtime interpreter\n",
    "import tflite_runtime.interpreter as tflite\n",
    "import numpy as np"
   ]
  },
  {
   "cell_type": "code",
   "execution_count": 11,
   "id": "9216778a",
   "metadata": {},
   "outputs": [
    {
     "data": {
      "text/plain": [
       "13"
      ]
     },
     "execution_count": 11,
     "metadata": {},
     "output_type": "execute_result"
    }
   ],
   "source": [
    "interpreter = tflite.Interpreter(model_path='dino_dragon_tflite')\n",
    "interpreter.allocate_tensors()\n",
    "\n",
    "interpreter.get_output_details()[0]['index']"
   ]
  },
  {
   "cell_type": "markdown",
   "id": "706ae18a",
   "metadata": {},
   "source": [
    "## Prepare the image"
   ]
  },
  {
   "cell_type": "code",
   "execution_count": 12,
   "id": "36c6bc5d",
   "metadata": {},
   "outputs": [
    {
     "name": "stdout",
     "output_type": "stream",
     "text": [
      "Requirement already satisfied: pillow in /Users/pllee/opt/miniconda3/envs/ml-zoomcamp/lib/python3.9/site-packages (9.2.0)\r\n"
     ]
    }
   ],
   "source": [
    "!pip install pillow"
   ]
  },
  {
   "cell_type": "code",
   "execution_count": 13,
   "id": "50c5da07",
   "metadata": {},
   "outputs": [],
   "source": [
    "from io import BytesIO\n",
    "from urllib import request\n",
    "\n",
    "from PIL import Image\n",
    "\n",
    "def download_image(url):\n",
    "    with request.urlopen(url) as resp:\n",
    "        buffer = resp.read()\n",
    "    stream = BytesIO(buffer)\n",
    "    img = Image.open(stream)\n",
    "    return img\n",
    "\n",
    "\n",
    "def prepare_image(img, target_size):\n",
    "    if img.mode != 'RGB':\n",
    "        img = img.convert('RGB')\n",
    "    img = img.resize(target_size, Image.NEAREST)\n",
    "    return img"
   ]
  },
  {
   "cell_type": "code",
   "execution_count": 14,
   "id": "d5c1668f",
   "metadata": {},
   "outputs": [],
   "source": [
    "# image url\n",
    "url = 'https://upload.wikimedia.org/wikipedia/commons/thumb/d/df/Smaug_par_David_Demaret.jpg/1280px-Smaug_par_David_Demaret.jpg'"
   ]
  },
  {
   "cell_type": "code",
   "execution_count": 15,
   "id": "496a25cf",
   "metadata": {},
   "outputs": [],
   "source": [
    "# download image\n",
    "img = download_image(url)"
   ]
  },
  {
   "cell_type": "code",
   "execution_count": 16,
   "id": "9c6f0e87",
   "metadata": {},
   "outputs": [
    {
     "name": "stderr",
     "output_type": "stream",
     "text": [
      "/var/folders/q6/4vk5yrts387cp_3qs430rhqc0000gn/T/ipykernel_12259/2487457277.py:17: DeprecationWarning: NEAREST is deprecated and will be removed in Pillow 10 (2023-07-01). Use Resampling.NEAREST or Dither.NONE instead.\n",
      "  img = img.resize(target_size, Image.NEAREST)\n"
     ]
    }
   ],
   "source": [
    "# prepare image\n",
    "target_size = (150, 150)   # from homework 8\n",
    "img = prepare_image(img, target_size)"
   ]
  },
  {
   "cell_type": "code",
   "execution_count": 17,
   "id": "b9762812",
   "metadata": {},
   "outputs": [
    {
     "data": {
      "text/plain": [
       "array([[[[0.5529412 , 0.31764707, 0.1764706 ],\n",
       "         [0.57254905, 0.34117648, 0.1764706 ],\n",
       "         [0.5647059 , 0.3254902 , 0.14901961],\n",
       "         ...,\n",
       "         [0.07058824, 0.02745098, 0.01960784],\n",
       "         [0.07058824, 0.03921569, 0.02745098],\n",
       "         [0.10980392, 0.04705882, 0.04705882]],\n",
       "\n",
       "        [[0.5137255 , 0.28235295, 0.14901961],\n",
       "         [0.5529412 , 0.30980393, 0.15686275],\n",
       "         [0.5803922 , 0.34901962, 0.18431373],\n",
       "         ...,\n",
       "         [0.05882353, 0.04313726, 0.03137255],\n",
       "         [0.05490196, 0.02352941, 0.01176471],\n",
       "         [0.09803922, 0.03529412, 0.03921569]],\n",
       "\n",
       "        [[0.5058824 , 0.29411766, 0.15294118],\n",
       "         [0.5686275 , 0.34117648, 0.19607843],\n",
       "         [0.5568628 , 0.32156864, 0.1764706 ],\n",
       "         ...,\n",
       "         [0.07450981, 0.02745098, 0.02745098],\n",
       "         [0.09019608, 0.03529412, 0.03137255],\n",
       "         [0.07450981, 0.03529412, 0.03137255]],\n",
       "\n",
       "        ...,\n",
       "\n",
       "        [[0.29803923, 0.41960785, 0.36078432],\n",
       "         [0.4       , 0.36078432, 0.3529412 ],\n",
       "         [0.42745098, 0.48235294, 0.3529412 ],\n",
       "         ...,\n",
       "         [0.3882353 , 0.15686275, 0.02352941],\n",
       "         [0.30588236, 0.10196079, 0.01960784],\n",
       "         [0.39607844, 0.26666668, 0.09019608]],\n",
       "\n",
       "        [[0.2627451 , 0.4509804 , 0.49019608],\n",
       "         [0.31764707, 0.2509804 , 0.1882353 ],\n",
       "         [0.34901962, 0.57254905, 0.43529412],\n",
       "         ...,\n",
       "         [0.3882353 , 0.18039216, 0.02352941],\n",
       "         [0.3137255 , 0.10196079, 0.        ],\n",
       "         [0.21176471, 0.05098039, 0.10588235]],\n",
       "\n",
       "        [[0.30980393, 0.27450982, 0.34117648],\n",
       "         [0.09019608, 0.07450981, 0.        ],\n",
       "         [0.32156864, 0.20784314, 0.22352941],\n",
       "         ...,\n",
       "         [0.1882353 , 0.        , 0.02745098],\n",
       "         [0.37254903, 0.20784314, 0.05882353],\n",
       "         [0.3529412 , 0.15294118, 0.03921569]]]], dtype=float32)"
      ]
     },
     "execution_count": 17,
     "metadata": {},
     "output_type": "execute_result"
    }
   ],
   "source": [
    "# turn the image into numpy array and pre-process it\n",
    "x = np.array(img, dtype='float32')\n",
    "X = np.array([x])\n",
    "X = X/255\n",
    "X"
   ]
  },
  {
   "cell_type": "code",
   "execution_count": 18,
   "id": "64b8eda3",
   "metadata": {},
   "outputs": [
    {
     "data": {
      "text/plain": [
       "(0, 13)"
      ]
     },
     "execution_count": 18,
     "metadata": {},
     "output_type": "execute_result"
    }
   ],
   "source": [
    "#  apply this model to this image. What's the output of the model?\n",
    "\n",
    "input_index = interpreter.get_input_details()[0]['index']\n",
    "output_index = interpreter.get_output_details()[0]['index']\n",
    "input_index, output_index"
   ]
  },
  {
   "cell_type": "code",
   "execution_count": 19,
   "id": "4c7eb08a",
   "metadata": {},
   "outputs": [
    {
     "data": {
      "text/plain": [
       "array([[0.8244865]], dtype=float32)"
      ]
     },
     "execution_count": 19,
     "metadata": {},
     "output_type": "execute_result"
    }
   ],
   "source": [
    "interpreter.set_tensor(input_index, X)\n",
    "interpreter.invoke()\n",
    "interpreter.get_tensor(output_index)"
   ]
  },
  {
   "cell_type": "code",
   "execution_count": 20,
   "id": "d52c41ba",
   "metadata": {},
   "outputs": [
    {
     "name": "stdout",
     "output_type": "stream",
     "text": [
      "REPOSITORY                             TAG           IMAGE ID       CREATED         SIZE\r\n",
      "svizor42/zoomcamp-dino-dragon-lambda   v2            20ef58b21a05   12 days ago     639MB\r\n",
      "hw5-cont                               latest        6aa48ab13cc5   7 weeks ago     587MB\r\n",
      "<none>                                 <none>        7aa623322e98   7 weeks ago     587MB\r\n",
      "svizor/zoomcamp-model                  3.9.12-slim   571a6fdc554b   8 weeks ago     125MB\r\n",
      "sandbox_algod                          latest        9161df8c7986   5 months ago    1.32GB\r\n",
      "sandbox_indexer                        latest        a11be98c98f8   6 months ago    801MB\r\n",
      "postgres                               13-alpine     2557ebf9b7df   6 months ago    185MB\r\n",
      "docker/getting-started                 latest        cb90f98fd791   7 months ago    28.8MB\r\n",
      "volumes                                latest        ca3533566d5d   11 months ago   145MB\r\n",
      "outyet                                 1.9.4-local   f25a7ea27eb1   11 months ago   11.7MB\r\n",
      "leepat/balance_game                    latest        4e462f18841e   11 months ago   9.93MB\r\n",
      "httpd                                  2.4           ea28e1b82f31   12 months ago   143MB\r\n",
      "debian                                 latest        05d2318291e3   12 months ago   124MB\r\n",
      "alpine                                 latest        c059bfaa849c   12 months ago   5.59MB\r\n",
      "spkane/train-os                        latest        020b33c46606   14 months ago   256MB\r\n",
      "spkane/outyet                          1.9.4-small   18581685948d   19 months ago   5.9MB\r\n",
      "alpine                                 3.8           c8bccc0af957   2 years ago     4.41MB\r\n",
      "fedora                                 28            4c5b21baa7a0   3 years ago     261MB\r\n",
      "spkane/alpine-base                     latest        983e0773861e   4 years ago     7.21MB\r\n",
      "spkane/quantum-game                    latest        e2e427beb67c   4 years ago     252MB\r\n",
      "golang                                 1.9.4         a6c306bd0b2f   4 years ago     735MB\r\n"
     ]
    }
   ],
   "source": [
    "!docker images"
   ]
  },
  {
   "cell_type": "code",
   "execution_count": null,
   "id": "9492517a",
   "metadata": {},
   "outputs": [],
   "source": []
  },
  {
   "cell_type": "code",
   "execution_count": null,
   "id": "f9ebee11",
   "metadata": {},
   "outputs": [],
   "source": []
  },
  {
   "cell_type": "code",
   "execution_count": null,
   "id": "fdff105c",
   "metadata": {},
   "outputs": [],
   "source": []
  }
 ],
 "metadata": {
  "kernelspec": {
   "display_name": "ml-zoomcamp",
   "language": "python",
   "name": "ml-zoomcamp"
  },
  "language_info": {
   "codemirror_mode": {
    "name": "ipython",
    "version": 3
   },
   "file_extension": ".py",
   "mimetype": "text/x-python",
   "name": "python",
   "nbconvert_exporter": "python",
   "pygments_lexer": "ipython3",
   "version": "3.9.13"
  }
 },
 "nbformat": 4,
 "nbformat_minor": 5
}
