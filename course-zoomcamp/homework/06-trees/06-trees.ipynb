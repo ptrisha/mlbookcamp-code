{
 "cells": [
  {
   "cell_type": "markdown",
   "id": "c9e9f779",
   "metadata": {},
   "source": [
    "## Homework 6\n",
    "\n",
    "This chapter is about decision trees, random forests and XGBoost. \n",
    "\n",
    "The goal of this homework is to create a regression model for predicting housing prices (column 'median_house_value'). \n",
    "\n",
    "In this homework we'll again use the California Housing Prices dataset - the same one we used in homework 2 and 3."
   ]
  },
  {
   "cell_type": "code",
   "execution_count": 1,
   "id": "195fd82a",
   "metadata": {},
   "outputs": [],
   "source": [
    "#import sys\n",
    "#!{sys.executable} -m pip install xgboost\n",
    "# previous installations didn't work somehow.  These are installations that I tried which did not work.\n",
    "# pip install xgboost\n",
    "# conda install -c conda-forge xgboost"
   ]
  },
  {
   "cell_type": "code",
   "execution_count": 2,
   "id": "dc410257",
   "metadata": {},
   "outputs": [],
   "source": [
    "# import libraries\n",
    "import pandas as pd\n",
    "import numpy as np\n",
    "import matplotlib.pyplot as plt\n",
    "import seaborn as sns"
   ]
  },
  {
   "cell_type": "code",
   "execution_count": 3,
   "id": "c8d59dcb",
   "metadata": {},
   "outputs": [],
   "source": [
    "# download the data \n",
    "#!wget https://raw.githubusercontent.com/alexeygrigorev/datasets/master/housing.csv"
   ]
  },
  {
   "cell_type": "code",
   "execution_count": 4,
   "id": "55c25e7d",
   "metadata": {},
   "outputs": [
    {
     "data": {
      "text/html": [
       "<div>\n",
       "<style scoped>\n",
       "    .dataframe tbody tr th:only-of-type {\n",
       "        vertical-align: middle;\n",
       "    }\n",
       "\n",
       "    .dataframe tbody tr th {\n",
       "        vertical-align: top;\n",
       "    }\n",
       "\n",
       "    .dataframe thead th {\n",
       "        text-align: right;\n",
       "    }\n",
       "</style>\n",
       "<table border=\"1\" class=\"dataframe\">\n",
       "  <thead>\n",
       "    <tr style=\"text-align: right;\">\n",
       "      <th></th>\n",
       "      <th>longitude</th>\n",
       "      <th>latitude</th>\n",
       "      <th>housing_median_age</th>\n",
       "      <th>total_rooms</th>\n",
       "      <th>total_bedrooms</th>\n",
       "      <th>population</th>\n",
       "      <th>households</th>\n",
       "      <th>median_income</th>\n",
       "      <th>median_house_value</th>\n",
       "      <th>ocean_proximity</th>\n",
       "    </tr>\n",
       "  </thead>\n",
       "  <tbody>\n",
       "    <tr>\n",
       "      <th>0</th>\n",
       "      <td>-122.23</td>\n",
       "      <td>37.88</td>\n",
       "      <td>41.0</td>\n",
       "      <td>880.0</td>\n",
       "      <td>129.0</td>\n",
       "      <td>322.0</td>\n",
       "      <td>126.0</td>\n",
       "      <td>8.3252</td>\n",
       "      <td>452600.0</td>\n",
       "      <td>NEAR BAY</td>\n",
       "    </tr>\n",
       "    <tr>\n",
       "      <th>1</th>\n",
       "      <td>-122.22</td>\n",
       "      <td>37.86</td>\n",
       "      <td>21.0</td>\n",
       "      <td>7099.0</td>\n",
       "      <td>1106.0</td>\n",
       "      <td>2401.0</td>\n",
       "      <td>1138.0</td>\n",
       "      <td>8.3014</td>\n",
       "      <td>358500.0</td>\n",
       "      <td>NEAR BAY</td>\n",
       "    </tr>\n",
       "    <tr>\n",
       "      <th>2</th>\n",
       "      <td>-122.24</td>\n",
       "      <td>37.85</td>\n",
       "      <td>52.0</td>\n",
       "      <td>1467.0</td>\n",
       "      <td>190.0</td>\n",
       "      <td>496.0</td>\n",
       "      <td>177.0</td>\n",
       "      <td>7.2574</td>\n",
       "      <td>352100.0</td>\n",
       "      <td>NEAR BAY</td>\n",
       "    </tr>\n",
       "  </tbody>\n",
       "</table>\n",
       "</div>"
      ],
      "text/plain": [
       "   longitude  latitude  housing_median_age  total_rooms  total_bedrooms  \\\n",
       "0    -122.23     37.88                41.0        880.0           129.0   \n",
       "1    -122.22     37.86                21.0       7099.0          1106.0   \n",
       "2    -122.24     37.85                52.0       1467.0           190.0   \n",
       "\n",
       "   population  households  median_income  median_house_value ocean_proximity  \n",
       "0       322.0       126.0         8.3252            452600.0        NEAR BAY  \n",
       "1      2401.0      1138.0         8.3014            358500.0        NEAR BAY  \n",
       "2       496.0       177.0         7.2574            352100.0        NEAR BAY  "
      ]
     },
     "execution_count": 4,
     "metadata": {},
     "output_type": "execute_result"
    }
   ],
   "source": [
    "# read the data into a Pandas dataframe\n",
    "df_raw = pd.read_csv(\"housing.csv\")\n",
    "df_raw.head(n=3)"
   ]
  },
  {
   "cell_type": "markdown",
   "id": "b65b0190",
   "metadata": {},
   "source": [
    "Use only the following columns:\n",
    "'latitude', 'longitude', 'housing_median_age','total_rooms','total_bedrooms','population','households','median_income','median_house_value',\n",
    "'ocean_proximity'\n",
    "\n",
    "Fill NAs with 0.\n",
    "\n",
    "Apply the log tranform to median_house_value.\n",
    "\n",
    "Do train/validation/test split with 60%/20%/20% distribution.\n",
    "\n",
    "Use the train_test_split function and set the random_state parameter to 1.\n",
    "\n",
    "Use DictVectorizer to turn the dataframe into matrices."
   ]
  },
  {
   "cell_type": "code",
   "execution_count": 5,
   "id": "e3dbf4c6",
   "metadata": {},
   "outputs": [
    {
     "data": {
      "text/plain": [
       "longitude               0\n",
       "latitude                0\n",
       "housing_median_age      0\n",
       "total_rooms             0\n",
       "total_bedrooms        207\n",
       "population              0\n",
       "households              0\n",
       "median_income           0\n",
       "median_house_value      0\n",
       "ocean_proximity         0\n",
       "dtype: int64"
      ]
     },
     "execution_count": 5,
     "metadata": {},
     "output_type": "execute_result"
    }
   ],
   "source": [
    "df_raw.isnull().sum()"
   ]
  },
  {
   "cell_type": "code",
   "execution_count": 6,
   "id": "2f7b49b7",
   "metadata": {},
   "outputs": [
    {
     "data": {
      "text/plain": [
       "longitude             0\n",
       "latitude              0\n",
       "housing_median_age    0\n",
       "total_rooms           0\n",
       "total_bedrooms        0\n",
       "population            0\n",
       "households            0\n",
       "median_income         0\n",
       "median_house_value    0\n",
       "ocean_proximity       0\n",
       "dtype: int64"
      ]
     },
     "execution_count": 6,
     "metadata": {},
     "output_type": "execute_result"
    }
   ],
   "source": [
    "df = df_raw.fillna(0)\n",
    "df.isnull().sum()"
   ]
  },
  {
   "cell_type": "markdown",
   "id": "2358de1e",
   "metadata": {},
   "source": [
    "Apply the log tranform to median_house_value."
   ]
  },
  {
   "cell_type": "code",
   "execution_count": 7,
   "id": "48b783cd",
   "metadata": {},
   "outputs": [
    {
     "data": {
      "text/html": [
       "<div>\n",
       "<style scoped>\n",
       "    .dataframe tbody tr th:only-of-type {\n",
       "        vertical-align: middle;\n",
       "    }\n",
       "\n",
       "    .dataframe tbody tr th {\n",
       "        vertical-align: top;\n",
       "    }\n",
       "\n",
       "    .dataframe thead th {\n",
       "        text-align: right;\n",
       "    }\n",
       "</style>\n",
       "<table border=\"1\" class=\"dataframe\">\n",
       "  <thead>\n",
       "    <tr style=\"text-align: right;\">\n",
       "      <th></th>\n",
       "      <th>longitude</th>\n",
       "      <th>latitude</th>\n",
       "      <th>housing_median_age</th>\n",
       "      <th>total_rooms</th>\n",
       "      <th>total_bedrooms</th>\n",
       "      <th>population</th>\n",
       "      <th>households</th>\n",
       "      <th>median_income</th>\n",
       "      <th>median_house_value</th>\n",
       "      <th>ocean_proximity</th>\n",
       "    </tr>\n",
       "  </thead>\n",
       "  <tbody>\n",
       "    <tr>\n",
       "      <th>0</th>\n",
       "      <td>-122.23</td>\n",
       "      <td>37.88</td>\n",
       "      <td>41.0</td>\n",
       "      <td>880.0</td>\n",
       "      <td>129.0</td>\n",
       "      <td>322.0</td>\n",
       "      <td>126.0</td>\n",
       "      <td>8.3252</td>\n",
       "      <td>13.022766</td>\n",
       "      <td>NEAR BAY</td>\n",
       "    </tr>\n",
       "    <tr>\n",
       "      <th>1</th>\n",
       "      <td>-122.22</td>\n",
       "      <td>37.86</td>\n",
       "      <td>21.0</td>\n",
       "      <td>7099.0</td>\n",
       "      <td>1106.0</td>\n",
       "      <td>2401.0</td>\n",
       "      <td>1138.0</td>\n",
       "      <td>8.3014</td>\n",
       "      <td>12.789687</td>\n",
       "      <td>NEAR BAY</td>\n",
       "    </tr>\n",
       "    <tr>\n",
       "      <th>2</th>\n",
       "      <td>-122.24</td>\n",
       "      <td>37.85</td>\n",
       "      <td>52.0</td>\n",
       "      <td>1467.0</td>\n",
       "      <td>190.0</td>\n",
       "      <td>496.0</td>\n",
       "      <td>177.0</td>\n",
       "      <td>7.2574</td>\n",
       "      <td>12.771673</td>\n",
       "      <td>NEAR BAY</td>\n",
       "    </tr>\n",
       "  </tbody>\n",
       "</table>\n",
       "</div>"
      ],
      "text/plain": [
       "   longitude  latitude  housing_median_age  total_rooms  total_bedrooms  \\\n",
       "0    -122.23     37.88                41.0        880.0           129.0   \n",
       "1    -122.22     37.86                21.0       7099.0          1106.0   \n",
       "2    -122.24     37.85                52.0       1467.0           190.0   \n",
       "\n",
       "   population  households  median_income  median_house_value ocean_proximity  \n",
       "0       322.0       126.0         8.3252           13.022766        NEAR BAY  \n",
       "1      2401.0      1138.0         8.3014           12.789687        NEAR BAY  \n",
       "2       496.0       177.0         7.2574           12.771673        NEAR BAY  "
      ]
     },
     "execution_count": 7,
     "metadata": {},
     "output_type": "execute_result"
    }
   ],
   "source": [
    "df['median_house_value'] = np.log1p(df['median_house_value'])\n",
    "df.head(n=3)"
   ]
  },
  {
   "cell_type": "markdown",
   "id": "d59f229a",
   "metadata": {},
   "source": [
    "Do train/validation/test split with 60%/20%/20% distribution. Use the train_test_split function and set the random_state parameter to 1."
   ]
  },
  {
   "cell_type": "code",
   "execution_count": 8,
   "id": "331645dd",
   "metadata": {},
   "outputs": [
    {
     "data": {
      "text/plain": [
       "((12384, 10), (4128, 10), (4128, 10))"
      ]
     },
     "execution_count": 8,
     "metadata": {},
     "output_type": "execute_result"
    }
   ],
   "source": [
    "from sklearn.model_selection import train_test_split\n",
    "\n",
    "df_full_train, df_test = train_test_split(df, test_size=0.2, random_state=1)\n",
    "df_train, df_val = train_test_split(df_full_train, test_size=0.25, random_state=1)\n",
    "df_train.shape, df_val.shape, df_test.shape"
   ]
  },
  {
   "cell_type": "code",
   "execution_count": 9,
   "id": "b3784742",
   "metadata": {},
   "outputs": [],
   "source": [
    "# reset the index for the split sets\n",
    "df_train = df_train.reset_index(drop=True)\n",
    "df_val = df_val.reset_index(drop=True)\n",
    "df_test = df_test.reset_index(drop=True)"
   ]
  },
  {
   "cell_type": "code",
   "execution_count": 10,
   "id": "d99cdf82",
   "metadata": {},
   "outputs": [],
   "source": [
    "y_train = df_train.median_house_value.values\n",
    "y_val = df_val.median_house_value.values\n",
    "y_test = df_test.median_house_value.values"
   ]
  },
  {
   "cell_type": "code",
   "execution_count": 11,
   "id": "084f307a",
   "metadata": {},
   "outputs": [],
   "source": [
    "del df_train['median_house_value']\n",
    "del df_val['median_house_value']\n",
    "del df_test['median_house_value']"
   ]
  },
  {
   "cell_type": "markdown",
   "id": "43bdb24e",
   "metadata": {},
   "source": [
    "Use DictVectorizer to turn the dataframe into matrices."
   ]
  },
  {
   "cell_type": "code",
   "execution_count": 12,
   "id": "8ed67544",
   "metadata": {},
   "outputs": [],
   "source": [
    "from sklearn.feature_extraction import DictVectorizer\n",
    "\n",
    "train_dicts = df_train.fillna(0).to_dict(orient='records')"
   ]
  },
  {
   "cell_type": "code",
   "execution_count": 13,
   "id": "89571d47",
   "metadata": {},
   "outputs": [],
   "source": [
    "dv = DictVectorizer(sparse=False)\n",
    "X_train = dv.fit_transform(train_dicts)"
   ]
  },
  {
   "cell_type": "markdown",
   "id": "0991a137",
   "metadata": {},
   "source": [
    "### Question 1\n",
    "\n",
    "Let's train a decision tree regressor to predict the median_house_value variable.\n",
    "\n",
    "* Train a model with max_depth=1.\n",
    "\n",
    "Which feature is used for splitting the data?  \n",
    "* ocean_proximity=INLAND\n",
    "* total_rooms\n",
    "* latitude\n",
    "* population"
   ]
  },
  {
   "cell_type": "code",
   "execution_count": 14,
   "id": "85e5c71c",
   "metadata": {},
   "outputs": [],
   "source": [
    "from sklearn.tree import DecisionTreeRegressor\n",
    "from sklearn.tree import export_text"
   ]
  },
  {
   "cell_type": "code",
   "execution_count": 15,
   "id": "ad2eafcf",
   "metadata": {},
   "outputs": [
    {
     "data": {
      "text/plain": [
       "DecisionTreeRegressor(max_depth=1)"
      ]
     },
     "execution_count": 15,
     "metadata": {},
     "output_type": "execute_result"
    }
   ],
   "source": [
    "dt = DecisionTreeRegressor(max_depth=1)\n",
    "dt.fit(X_train, y_train)"
   ]
  },
  {
   "cell_type": "code",
   "execution_count": 16,
   "id": "456d448b",
   "metadata": {},
   "outputs": [
    {
     "name": "stdout",
     "output_type": "stream",
     "text": [
      "|--- ocean_proximity=INLAND <= 0.50\n",
      "|   |--- value: [12.31]\n",
      "|--- ocean_proximity=INLAND >  0.50\n",
      "|   |--- value: [11.61]\n",
      "\n"
     ]
    },
    {
     "name": "stderr",
     "output_type": "stream",
     "text": [
      "/Users/pllee/stackup/stkup_env/lib/python3.9/site-packages/sklearn/utils/deprecation.py:87: FutureWarning: Function get_feature_names is deprecated; get_feature_names is deprecated in 1.0 and will be removed in 1.2. Please use get_feature_names_out instead.\n",
      "  warnings.warn(msg, category=FutureWarning)\n"
     ]
    }
   ],
   "source": [
    "print(export_text(dt, feature_names=dv.get_feature_names()))"
   ]
  },
  {
   "cell_type": "code",
   "execution_count": 17,
   "id": "f1b81388",
   "metadata": {},
   "outputs": [],
   "source": [
    "# Answer to Question 1: feature used for splitting data is ocean_proximity=INLAND"
   ]
  },
  {
   "cell_type": "markdown",
   "id": "804cb39d",
   "metadata": {},
   "source": [
    "### Question 2\n",
    "\n",
    "Train a random forest model with these parameters:  \n",
    "n_estimators=10  \n",
    "random_state=1  \n",
    "n_jobs=-1 (optional - to make training faster)  \n",
    "\n",
    "What's the RMSE of this model on validation?\n",
    "* 0.05\n",
    "* 0.25\n",
    "* 0.55\n",
    "* 0.85"
   ]
  },
  {
   "cell_type": "code",
   "execution_count": 18,
   "id": "f7c82ff0",
   "metadata": {},
   "outputs": [],
   "source": [
    "from sklearn.ensemble import RandomForestRegressor\n",
    "from sklearn.metrics import mean_squared_error"
   ]
  },
  {
   "cell_type": "code",
   "execution_count": 19,
   "id": "c9af9e99",
   "metadata": {},
   "outputs": [
    {
     "data": {
      "text/plain": [
       "RandomForestRegressor(n_estimators=10, n_jobs=-1, random_state=1)"
      ]
     },
     "execution_count": 19,
     "metadata": {},
     "output_type": "execute_result"
    }
   ],
   "source": [
    "rf = RandomForestRegressor(n_estimators=10, random_state=1, n_jobs=-1)\n",
    "rf.fit(X_train, y_train)"
   ]
  },
  {
   "cell_type": "code",
   "execution_count": 20,
   "id": "fedecd40",
   "metadata": {},
   "outputs": [],
   "source": [
    "val_dicts = df_val.fillna(0).to_dict(orient='records')\n",
    "X_val = dv.transform(val_dicts)"
   ]
  },
  {
   "cell_type": "code",
   "execution_count": 21,
   "id": "1c9fcf0b",
   "metadata": {},
   "outputs": [
    {
     "data": {
      "text/plain": [
       "array([12.70112608, 13.08974669, 11.18974702, ..., 12.74865454,\n",
       "       12.33216648, 12.29711708])"
      ]
     },
     "execution_count": 21,
     "metadata": {},
     "output_type": "execute_result"
    }
   ],
   "source": [
    "y_pred = rf.predict(X_val)\n",
    "y_pred"
   ]
  },
  {
   "cell_type": "code",
   "execution_count": 22,
   "id": "2b7649c3",
   "metadata": {},
   "outputs": [
    {
     "data": {
      "text/plain": [
       "0.24579193759466625"
      ]
     },
     "execution_count": 22,
     "metadata": {},
     "output_type": "execute_result"
    }
   ],
   "source": [
    "rmse = np.sqrt( mean_squared_error(y_val, y_pred))\n",
    "rmse"
   ]
  },
  {
   "cell_type": "code",
   "execution_count": 23,
   "id": "d942a7a4",
   "metadata": {},
   "outputs": [],
   "source": [
    "# Answer to Question 2: rmse = 0.25"
   ]
  },
  {
   "cell_type": "markdown",
   "id": "05dcd0e5",
   "metadata": {},
   "source": [
    "### Question 3\n",
    "\n",
    "Now let's experiment with the _n\\_estimators_  parameter\n",
    "\n",
    "Try different values of this parameter from 10 to 200 with step 10.   \n",
    "Set _random\\_state_ to 1.  \n",
    "Evaluate the model on the validation dataset.  \n",
    "\n",
    "\n",
    "After which value of n_estimators does RMSE stop improving?\n",
    "* 10\n",
    "* 50\n",
    "* 70\n",
    "* 150"
   ]
  },
  {
   "cell_type": "code",
   "execution_count": 24,
   "id": "e9578ae1",
   "metadata": {},
   "outputs": [
    {
     "data": {
      "text/plain": [
       "array([ 10,  20,  30,  40,  50,  60,  70,  80,  90, 100, 110, 120, 130,\n",
       "       140, 150, 160, 170, 180, 190, 200])"
      ]
     },
     "execution_count": 24,
     "metadata": {},
     "output_type": "execute_result"
    }
   ],
   "source": [
    "rmses = []\n",
    "\n",
    "n_estimators = np.arange(10, 210, step=10)\n",
    "n_estimators"
   ]
  },
  {
   "cell_type": "code",
   "execution_count": 25,
   "id": "ce4d331b",
   "metadata": {},
   "outputs": [],
   "source": [
    "for n in n_estimators:\n",
    "    rf = RandomForestRegressor(n_estimators=n, random_state=1, n_jobs=-1)\n",
    "    rf.fit(X_train, y_train)\n",
    "    y_pred = rf.predict(X_val)\n",
    "    rmse = np.sqrt( mean_squared_error(y_val, y_pred))\n",
    "    rmses.append(rmse)"
   ]
  },
  {
   "cell_type": "code",
   "execution_count": 26,
   "id": "1fba9fc4",
   "metadata": {},
   "outputs": [
    {
     "data": {
      "text/plain": [
       "[<matplotlib.lines.Line2D at 0x7ffb0139ceb0>]"
      ]
     },
     "execution_count": 26,
     "metadata": {},
     "output_type": "execute_result"
    },
    {
     "data": {
      "image/png": "[encoded data removed]",
      "text/plain": [
       "<Figure size 432x288 with 1 Axes>"
      ]
     },
     "metadata": {
      "needs_background": "light"
     },
     "output_type": "display_data"
    }
   ],
   "source": [
    "plt.plot(n_estimators, rmses)"
   ]
  },
  {
   "cell_type": "code",
   "execution_count": 27,
   "id": "d46df5ef",
   "metadata": {},
   "outputs": [],
   "source": [
    "# Answer to Question 3: rmse stops improving after n_estimator=150."
   ]
  },
  {
   "cell_type": "markdown",
   "id": "3554dae2",
   "metadata": {},
   "source": [
    "### Question 4\n",
    "\n",
    "Let's select the best _max\\_depth_:\n",
    "\n",
    "Try different values of max_depth: \\[10, 15, 20, 25\\]   \n",
    "\n",
    "For each of these values, try different values of _n\\_estimators_ from 10 till 200 (with step 10).   \n",
    "\n",
    "Fix the random seed: _random\\_state=1_   \n",
    "\n",
    "What's the best max_depth:\n",
    "* 10\n",
    "* 15\n",
    "* 20\n",
    "* 25"
   ]
  },
  {
   "cell_type": "code",
   "execution_count": 28,
   "id": "cb624284",
   "metadata": {},
   "outputs": [],
   "source": [
    "max_depths = [10, 15, 20, 25]\n",
    "n_estimators = np.arange(10, 210, step=10)\n",
    "\n",
    "scores = []\n",
    "\n",
    "for d in max_depths:\n",
    "    for n in n_estimators:\n",
    "        rf = RandomForestRegressor(n_estimators=n, max_depth=d, random_state=1, n_jobs=-1)\n",
    "        rf.fit(X_train, y_train)\n",
    "        y_pred = rf.predict(X_val)\n",
    "        rmse = np.sqrt( mean_squared_error(y_val, y_pred))\n",
    "        scores.append((d, n, rmse))      "
   ]
  },
  {
   "cell_type": "code",
   "execution_count": 29,
   "id": "61ddaec7",
   "metadata": {},
   "outputs": [],
   "source": [
    "# plot the rmse\n",
    "columns = ['max_depth', 'n_estimators', 'rmse']\n",
    "df_scores = pd.DataFrame(scores, columns=columns)"
   ]
  },
  {
   "cell_type": "code",
   "execution_count": 30,
   "id": "6b857b27",
   "metadata": {},
   "outputs": [],
   "source": [
    "colors = ['black', 'blue', 'orange', 'red']\n"
   ]
  },
  {
   "cell_type": "code",
   "execution_count": 31,
   "id": "af4d0fc5",
   "metadata": {},
   "outputs": [
    {
     "data": {
      "text/plain": [
       "<matplotlib.legend.Legend at 0x7ffae8cf43d0>"
      ]
     },
     "execution_count": 31,
     "metadata": {},
     "output_type": "execute_result"
    },
    {
     "data": {
      "image/png": "[encoded data removed]",
      "text/plain": [
       "<Figure size 432x288 with 1 Axes>"
      ]
     },
     "metadata": {
      "needs_background": "light"
     },
     "output_type": "display_data"
    }
   ],
   "source": [
    "for d, col in zip(max_depths, colors):\n",
    "    df_subset = df_scores[df_scores.max_depth == d]\n",
    "    \n",
    "    plt.plot(df_subset.n_estimators, df_subset.rmse,\n",
    "             color=col,\n",
    "             label='max_depth=%d' % d)\n",
    "\n",
    "plt.legend()"
   ]
  },
  {
   "cell_type": "code",
   "execution_count": 32,
   "id": "dd587355",
   "metadata": {},
   "outputs": [],
   "source": [
    "# Answer to Question 4: Best max depth = 25"
   ]
  },
  {
   "cell_type": "markdown",
   "id": "b62388b6",
   "metadata": {},
   "source": [
    "### Question 5\n",
    "\n",
    "We can extract feature importance information from tree-based models.\n",
    "\n",
    "At each step of the decision tree learning algorithm, it finds the best split.  We can calculate \"gain\" - the reduction in impurity before and after the split. This gain is quite useful in understanding what are the important features for tree-based models.\n",
    "\n",
    "In Scikit-Learn, tree-based models contain this information in the _feature\\_importances_ field.\n",
    "\n",
    "For this homework question, we'll find the most important feature:\n",
    "\n",
    "Train the model with these parametes:  \n",
    "n_estimators=10,  \n",
    "max_depth=20,  \n",
    "random_state=1,  \n",
    "n_jobs=-1 (optional)  \n",
    "\n",
    "Get the feature importance information from this model.  \n",
    "\n",
    "What's the most important feature?\n",
    "* total_rooms\n",
    "* median_income\n",
    "* total_bedrooms\n",
    "* longitude"
   ]
  },
  {
   "cell_type": "code",
   "execution_count": 33,
   "id": "7257855f",
   "metadata": {},
   "outputs": [
    {
     "data": {
      "text/plain": [
       "RandomForestRegressor(max_depth=20, n_estimators=10, n_jobs=-1, random_state=1)"
      ]
     },
     "execution_count": 33,
     "metadata": {},
     "output_type": "execute_result"
    }
   ],
   "source": [
    "# train the model\n",
    "rf = RandomForestRegressor(n_estimators=10, max_depth=20, random_state=1, n_jobs=-1)\n",
    "rf.fit(X_train, y_train)\n"
   ]
  },
  {
   "cell_type": "code",
   "execution_count": 34,
   "id": "7971b7a5",
   "metadata": {},
   "outputs": [
    {
     "name": "stderr",
     "output_type": "stream",
     "text": [
      "/Users/pllee/stackup/stkup_env/lib/python3.9/site-packages/sklearn/utils/deprecation.py:87: FutureWarning: Function get_feature_names is deprecated; get_feature_names is deprecated in 1.0 and will be removed in 1.2. Please use get_feature_names_out instead.\n",
      "  warnings.warn(msg, category=FutureWarning)\n"
     ]
    }
   ],
   "source": [
    "columns = [\"feature\", \"importance\"]\n",
    "df_feats = pd.DataFrame(zip( dv.get_feature_names(),  rf.feature_importances_ ), columns=columns)"
   ]
  },
  {
   "cell_type": "code",
   "execution_count": 35,
   "id": "1d4f57f3",
   "metadata": {},
   "outputs": [
    {
     "data": {
      "text/html": [
       "<div>\n",
       "<style scoped>\n",
       "    .dataframe tbody tr th:only-of-type {\n",
       "        vertical-align: middle;\n",
       "    }\n",
       "\n",
       "    .dataframe tbody tr th {\n",
       "        vertical-align: top;\n",
       "    }\n",
       "\n",
       "    .dataframe thead th {\n",
       "        text-align: right;\n",
       "    }\n",
       "</style>\n",
       "<table border=\"1\" class=\"dataframe\">\n",
       "  <thead>\n",
       "    <tr style=\"text-align: right;\">\n",
       "      <th></th>\n",
       "      <th>feature</th>\n",
       "      <th>importance</th>\n",
       "    </tr>\n",
       "  </thead>\n",
       "  <tbody>\n",
       "    <tr>\n",
       "      <th>4</th>\n",
       "      <td>median_income</td>\n",
       "      <td>0.363224</td>\n",
       "    </tr>\n",
       "    <tr>\n",
       "      <th>6</th>\n",
       "      <td>ocean_proximity=INLAND</td>\n",
       "      <td>0.310901</td>\n",
       "    </tr>\n",
       "    <tr>\n",
       "      <th>2</th>\n",
       "      <td>latitude</td>\n",
       "      <td>0.101333</td>\n",
       "    </tr>\n",
       "    <tr>\n",
       "      <th>3</th>\n",
       "      <td>longitude</td>\n",
       "      <td>0.096341</td>\n",
       "    </tr>\n",
       "    <tr>\n",
       "      <th>1</th>\n",
       "      <td>housing_median_age</td>\n",
       "      <td>0.033197</td>\n",
       "    </tr>\n",
       "    <tr>\n",
       "      <th>10</th>\n",
       "      <td>population</td>\n",
       "      <td>0.030999</td>\n",
       "    </tr>\n",
       "    <tr>\n",
       "      <th>12</th>\n",
       "      <td>total_rooms</td>\n",
       "      <td>0.020465</td>\n",
       "    </tr>\n",
       "    <tr>\n",
       "      <th>11</th>\n",
       "      <td>total_bedrooms</td>\n",
       "      <td>0.019373</td>\n",
       "    </tr>\n",
       "    <tr>\n",
       "      <th>0</th>\n",
       "      <td>households</td>\n",
       "      <td>0.016141</td>\n",
       "    </tr>\n",
       "    <tr>\n",
       "      <th>9</th>\n",
       "      <td>ocean_proximity=NEAR OCEAN</td>\n",
       "      <td>0.004452</td>\n",
       "    </tr>\n",
       "    <tr>\n",
       "      <th>5</th>\n",
       "      <td>ocean_proximity=&lt;1H OCEAN</td>\n",
       "      <td>0.002765</td>\n",
       "    </tr>\n",
       "    <tr>\n",
       "      <th>8</th>\n",
       "      <td>ocean_proximity=NEAR BAY</td>\n",
       "      <td>0.000453</td>\n",
       "    </tr>\n",
       "    <tr>\n",
       "      <th>7</th>\n",
       "      <td>ocean_proximity=ISLAND</td>\n",
       "      <td>0.000357</td>\n",
       "    </tr>\n",
       "  </tbody>\n",
       "</table>\n",
       "</div>"
      ],
      "text/plain": [
       "                       feature  importance\n",
       "4                median_income    0.363224\n",
       "6       ocean_proximity=INLAND    0.310901\n",
       "2                     latitude    0.101333\n",
       "3                    longitude    0.096341\n",
       "1           housing_median_age    0.033197\n",
       "10                  population    0.030999\n",
       "12                 total_rooms    0.020465\n",
       "11              total_bedrooms    0.019373\n",
       "0                   households    0.016141\n",
       "9   ocean_proximity=NEAR OCEAN    0.004452\n",
       "5    ocean_proximity=<1H OCEAN    0.002765\n",
       "8     ocean_proximity=NEAR BAY    0.000453\n",
       "7       ocean_proximity=ISLAND    0.000357"
      ]
     },
     "execution_count": 35,
     "metadata": {},
     "output_type": "execute_result"
    }
   ],
   "source": [
    "df_feats.sort_values(by=\"importance\", ascending=False)"
   ]
  },
  {
   "cell_type": "code",
   "execution_count": 36,
   "id": "c342de0e",
   "metadata": {},
   "outputs": [],
   "source": [
    "# Answer to Question 5: most important feature is \"median_income\""
   ]
  },
  {
   "cell_type": "markdown",
   "id": "f5ce4812",
   "metadata": {},
   "source": [
    "### Question 6\n",
    "\n",
    "Now let's train an XGBoost model! For this question, we'll tune the _eta_ parameter:\n",
    "\n",
    "Install XGBoost  \n",
    "Create DMatrix for train and validation  \n",
    "Create a watchlist  \n",
    "Train a model with the given parameters for 100 rounds\n",
    "\n",
    "Now change eta from 0.3 to 0.1.\n",
    "\n",
    "Which eta leads to the best RMSE score on the validation dataset?\n",
    "* 0.3\n",
    "* 0.1\n",
    "* Both give same result"
   ]
  },
  {
   "cell_type": "code",
   "execution_count": 37,
   "id": "11bebb0a",
   "metadata": {},
   "outputs": [],
   "source": [
    "import xgboost as xgb"
   ]
  },
  {
   "cell_type": "code",
   "execution_count": 38,
   "id": "684a68d1",
   "metadata": {},
   "outputs": [
    {
     "name": "stderr",
     "output_type": "stream",
     "text": [
      "/Users/pllee/stackup/stkup_env/lib/python3.9/site-packages/sklearn/utils/deprecation.py:87: FutureWarning: Function get_feature_names is deprecated; get_feature_names is deprecated in 1.0 and will be removed in 1.2. Please use get_feature_names_out instead.\n",
      "  warnings.warn(msg, category=FutureWarning)\n"
     ]
    },
    {
     "data": {
      "text/plain": [
       "'ocean_proximity=<1H OCEAN'"
      ]
     },
     "execution_count": 38,
     "metadata": {},
     "output_type": "execute_result"
    }
   ],
   "source": [
    "dv.get_feature_names()[5]"
   ]
  },
  {
   "cell_type": "code",
   "execution_count": 39,
   "id": "e6efa0b4",
   "metadata": {},
   "outputs": [],
   "source": [
    "# change the feature name to remove the \"<\" because this gives an error in DMatrix\n",
    "features = dv.get_feature_names()\n",
    "features[5] = 'ocean_proximity=1H OCEAN'\n",
    "\n",
    "dtrain = xgb.DMatrix(X_train, label=y_train, feature_names=features)\n",
    "dval = xgb.DMatrix(X_val, label=y_val, feature_names=features)"
   ]
  },
  {
   "cell_type": "code",
   "execution_count": 40,
   "id": "ce76ac2e",
   "metadata": {},
   "outputs": [],
   "source": [
    "watchlist_03 = [(dtrain, 'train'), (dval, 'val')]\n",
    "watchlist_01 = [(dtrain, 'train'), (dval, 'val')]"
   ]
  },
  {
   "cell_type": "code",
   "execution_count": 41,
   "id": "dd84237f",
   "metadata": {},
   "outputs": [],
   "source": [
    "%%capture output\n",
    "\n",
    "xgb_params_03 = {\n",
    "    'eta': 0.3, \n",
    "    'max_depth': 6,\n",
    "    'min_child_weight': 1,\n",
    "    \n",
    "    'objective': 'reg:squarederror',\n",
    "    'nthread': 8,\n",
    "    \n",
    "    'seed': 1,\n",
    "    'verbosity': 1,\n",
    "}\n",
    "\n",
    "model = xgb.train(xgb_params_03, dtrain, num_boost_round=100,\n",
    "                  verbose_eval=1,\n",
    "                  evals=watchlist_03)"
   ]
  },
  {
   "cell_type": "code",
   "execution_count": 42,
   "id": "54b79e96",
   "metadata": {},
   "outputs": [
    {
     "name": "stdout",
     "output_type": "stream",
     "text": [
      "[0]\ttrain-rmse:8.12733\tval-rmse:8.13245\n",
      "[1]\ttrain-rmse:5.69586\tval-rmse:5.70070\n",
      "[2]\ttrain-rmse:3.99540\tval-rmse:4.00041\n",
      "[3]\ttrain-rmse:2.80712\tval-rmse:2.81079\n",
      "[4]\ttrain-rmse:1.97834\tval-rmse:1.98175\n",
      "[5]\ttrain-rmse:1.40218\tval-rmse:1.40741\n",
      "[6]\ttrain-rmse:1.00099\tval-rmse:1.00700\n",
      "[7]\ttrain-rmse:0.72751\tval-rmse:0.73439\n",
      "[8]\ttrain-rmse:0.54190\tval-rmse:0.55047\n",
      "[9]\ttrain-rmse:0.42167\tval-rmse:0.43233\n",
      "[10]\ttrain-rmse:0.34481\tval-rmse:0.35782\n",
      "[11]\ttrain-rmse:0.29835\tval-rmse:0.31360\n",
      "[12]\ttrain-rmse:0.27095\tval-rmse:0.28865\n",
      "[13]\ttrain-rmse:0.25268\tval-rmse:0.27334\n",
      "[14]\ttrain-rmse:0.24295\tval-rmse:0.26605\n",
      "[15]\ttrain-rmse:0.23555\tval-rmse:0.26044\n",
      "[16]\ttrain-rmse:0.22630\tval-rmse:0.25229\n",
      "[17]\ttrain-rmse:0.22233\tval-rmse:0.24902\n",
      "[18]\ttrain-rmse:0.22029\tval-rmse:0.24826\n",
      "[19]\ttrain-rmse:0.21791\tval-rmse:0.24696\n",
      "[20]\ttrain-rmse:0.21580\tval-rmse:0.24624\n",
      "[21]\ttrain-rmse:0.21160\tval-rmse:0.24334\n",
      "[22]\ttrain-rmse:0.20975\tval-rmse:0.24245\n",
      "[23]\ttrain-rmse:0.20904\tval-rmse:0.24269\n",
      "[24]\ttrain-rmse:0.20703\tval-rmse:0.24252\n",
      "[25]\ttrain-rmse:0.20395\tval-rmse:0.24099\n",
      "[26]\ttrain-rmse:0.20188\tval-rmse:0.24019\n",
      "[27]\ttrain-rmse:0.20122\tval-rmse:0.24010\n",
      "[28]\ttrain-rmse:0.19810\tval-rmse:0.23843\n",
      "[29]\ttrain-rmse:0.19540\tval-rmse:0.23766\n",
      "[30]\ttrain-rmse:0.19440\tval-rmse:0.23741\n",
      "[31]\ttrain-rmse:0.19285\tval-rmse:0.23709\n",
      "[32]\ttrain-rmse:0.19126\tval-rmse:0.23686\n",
      "[33]\ttrain-rmse:0.18939\tval-rmse:0.23653\n",
      "[34]\ttrain-rmse:0.18742\tval-rmse:0.23605\n",
      "[35]\ttrain-rmse:0.18637\tval-rmse:0.23562\n",
      "[36]\ttrain-rmse:0.18486\tval-rmse:0.23539\n",
      "[37]\ttrain-rmse:0.18363\tval-rmse:0.23506\n",
      "[38]\ttrain-rmse:0.18274\tval-rmse:0.23495\n",
      "[39]\ttrain-rmse:0.18024\tval-rmse:0.23425\n",
      "[40]\ttrain-rmse:0.17983\tval-rmse:0.23419\n",
      "[41]\ttrain-rmse:0.17878\tval-rmse:0.23400\n",
      "[42]\ttrain-rmse:0.17782\tval-rmse:0.23384\n",
      "[43]\ttrain-rmse:0.17662\tval-rmse:0.23343\n",
      "[44]\ttrain-rmse:0.17568\tval-rmse:0.23317\n",
      "[45]\ttrain-rmse:0.17468\tval-rmse:0.23279\n",
      "[46]\ttrain-rmse:0.17304\tval-rmse:0.23205\n",
      "[47]\ttrain-rmse:0.17244\tval-rmse:0.23171\n",
      "[48]\ttrain-rmse:0.17139\tval-rmse:0.23142\n",
      "[49]\ttrain-rmse:0.17011\tval-rmse:0.23124\n",
      "[50]\ttrain-rmse:0.16934\tval-rmse:0.23097\n",
      "[51]\ttrain-rmse:0.16838\tval-rmse:0.23106\n",
      "[52]\ttrain-rmse:0.16788\tval-rmse:0.23074\n",
      "[53]\ttrain-rmse:0.16712\tval-rmse:0.23072\n",
      "[54]\ttrain-rmse:0.16616\tval-rmse:0.23030\n",
      "[55]\ttrain-rmse:0.16546\tval-rmse:0.23039\n",
      "[56]\ttrain-rmse:0.16433\tval-rmse:0.23006\n",
      "[57]\ttrain-rmse:0.16357\tval-rmse:0.23002\n",
      "[58]\ttrain-rmse:0.16309\tval-rmse:0.22987\n",
      "[59]\ttrain-rmse:0.16269\tval-rmse:0.22980\n",
      "[60]\ttrain-rmse:0.16177\tval-rmse:0.22950\n",
      "[61]\ttrain-rmse:0.16158\tval-rmse:0.22952\n",
      "[62]\ttrain-rmse:0.16081\tval-rmse:0.22929\n",
      "[63]\ttrain-rmse:0.15998\tval-rmse:0.22882\n",
      "[64]\ttrain-rmse:0.15854\tval-rmse:0.22878\n",
      "[65]\ttrain-rmse:0.15762\tval-rmse:0.22857\n",
      "[66]\ttrain-rmse:0.15666\tval-rmse:0.22862\n",
      "[67]\ttrain-rmse:0.15518\tval-rmse:0.22827\n",
      "[68]\ttrain-rmse:0.15446\tval-rmse:0.22825\n",
      "[69]\ttrain-rmse:0.15349\tval-rmse:0.22788\n",
      "[70]\ttrain-rmse:0.15323\tval-rmse:0.22787\n",
      "[71]\ttrain-rmse:0.15233\tval-rmse:0.22774\n",
      "[72]\ttrain-rmse:0.15212\tval-rmse:0.22773\n",
      "[73]\ttrain-rmse:0.15129\tval-rmse:0.22782\n",
      "[74]\ttrain-rmse:0.15075\tval-rmse:0.22771\n",
      "[75]\ttrain-rmse:0.15010\tval-rmse:0.22755\n",
      "[76]\ttrain-rmse:0.14872\tval-rmse:0.22705\n",
      "[77]\ttrain-rmse:0.14798\tval-rmse:0.22675\n",
      "[78]\ttrain-rmse:0.14728\tval-rmse:0.22669\n",
      "[79]\ttrain-rmse:0.14632\tval-rmse:0.22634\n",
      "[80]\ttrain-rmse:0.14564\tval-rmse:0.22611\n",
      "[81]\ttrain-rmse:0.14461\tval-rmse:0.22602\n",
      "[82]\ttrain-rmse:0.14386\tval-rmse:0.22595\n",
      "[83]\ttrain-rmse:0.14298\tval-rmse:0.22589\n",
      "[84]\ttrain-rmse:0.14244\tval-rmse:0.22598\n",
      "[85]\ttrain-rmse:0.14166\tval-rmse:0.22579\n",
      "[86]\ttrain-rmse:0.14128\tval-rmse:0.22582\n",
      "[87]\ttrain-rmse:0.14040\tval-rmse:0.22647\n",
      "[88]\ttrain-rmse:0.13997\tval-rmse:0.22641\n",
      "[89]\ttrain-rmse:0.13952\tval-rmse:0.22647\n",
      "[90]\ttrain-rmse:0.13892\tval-rmse:0.22628\n",
      "[91]\ttrain-rmse:0.13847\tval-rmse:0.22610\n",
      "[92]\ttrain-rmse:0.13794\tval-rmse:0.22619\n",
      "[93]\ttrain-rmse:0.13696\tval-rmse:0.22648\n",
      "[94]\ttrain-rmse:0.13626\tval-rmse:0.22643\n",
      "[95]\ttrain-rmse:0.13553\tval-rmse:0.22630\n",
      "[96]\ttrain-rmse:0.13458\tval-rmse:0.22620\n",
      "[97]\ttrain-rmse:0.13372\tval-rmse:0.22608\n",
      "[98]\ttrain-rmse:0.13344\tval-rmse:0.22611\n",
      "[99]\ttrain-rmse:0.13299\tval-rmse:0.22610\n",
      "\n"
     ]
    }
   ],
   "source": [
    "s = output.stdout\n",
    "print(s[:])"
   ]
  },
  {
   "cell_type": "code",
   "execution_count": 43,
   "id": "0fe597a3",
   "metadata": {},
   "outputs": [
    {
     "data": {
      "text/plain": [
       "'[0]\\ttrain-rmse:8.12733\\tval-rmse:8.13245\\n[1]\\ttrain-rmse:5.69586\\tval-rmse:5.70070\\n[2]\\ttrain-rmse:3.995'"
      ]
     },
     "execution_count": 43,
     "metadata": {},
     "output_type": "execute_result"
    }
   ],
   "source": [
    "output.stdout[:100]"
   ]
  },
  {
   "cell_type": "code",
   "execution_count": 44,
   "id": "ad92f08e",
   "metadata": {},
   "outputs": [],
   "source": [
    "def parse_xgb_output(output):\n",
    "    results = []\n",
    "\n",
    "    for line in output.stdout.strip().split('\\n'):\n",
    "        it_line, train_line, val_line = line.split('\\t')\n",
    "\n",
    "        it = int(it_line.strip('[]'))\n",
    "        train = float(train_line.split(':')[1])\n",
    "        val = float(val_line.split(':')[1])\n",
    "\n",
    "        results.append((it, train, val))\n",
    "    \n",
    "    columns = ['num_iter', 'train_rmse', 'val_rmse']\n",
    "    df_results = pd.DataFrame(results, columns=columns)\n",
    "    return df_results\n"
   ]
  },
  {
   "cell_type": "code",
   "execution_count": 45,
   "id": "94dbb367",
   "metadata": {},
   "outputs": [
    {
     "data": {
      "text/html": [
       "<div>\n",
       "<style scoped>\n",
       "    .dataframe tbody tr th:only-of-type {\n",
       "        vertical-align: middle;\n",
       "    }\n",
       "\n",
       "    .dataframe tbody tr th {\n",
       "        vertical-align: top;\n",
       "    }\n",
       "\n",
       "    .dataframe thead th {\n",
       "        text-align: right;\n",
       "    }\n",
       "</style>\n",
       "<table border=\"1\" class=\"dataframe\">\n",
       "  <thead>\n",
       "    <tr style=\"text-align: right;\">\n",
       "      <th></th>\n",
       "      <th>num_iter</th>\n",
       "      <th>train_rmse</th>\n",
       "      <th>val_rmse</th>\n",
       "    </tr>\n",
       "  </thead>\n",
       "  <tbody>\n",
       "    <tr>\n",
       "      <th>0</th>\n",
       "      <td>0</td>\n",
       "      <td>8.12733</td>\n",
       "      <td>8.13245</td>\n",
       "    </tr>\n",
       "    <tr>\n",
       "      <th>1</th>\n",
       "      <td>1</td>\n",
       "      <td>5.69586</td>\n",
       "      <td>5.70070</td>\n",
       "    </tr>\n",
       "    <tr>\n",
       "      <th>2</th>\n",
       "      <td>2</td>\n",
       "      <td>3.99540</td>\n",
       "      <td>4.00041</td>\n",
       "    </tr>\n",
       "    <tr>\n",
       "      <th>3</th>\n",
       "      <td>3</td>\n",
       "      <td>2.80712</td>\n",
       "      <td>2.81079</td>\n",
       "    </tr>\n",
       "    <tr>\n",
       "      <th>4</th>\n",
       "      <td>4</td>\n",
       "      <td>1.97834</td>\n",
       "      <td>1.98175</td>\n",
       "    </tr>\n",
       "    <tr>\n",
       "      <th>...</th>\n",
       "      <td>...</td>\n",
       "      <td>...</td>\n",
       "      <td>...</td>\n",
       "    </tr>\n",
       "    <tr>\n",
       "      <th>95</th>\n",
       "      <td>95</td>\n",
       "      <td>0.13553</td>\n",
       "      <td>0.22630</td>\n",
       "    </tr>\n",
       "    <tr>\n",
       "      <th>96</th>\n",
       "      <td>96</td>\n",
       "      <td>0.13458</td>\n",
       "      <td>0.22620</td>\n",
       "    </tr>\n",
       "    <tr>\n",
       "      <th>97</th>\n",
       "      <td>97</td>\n",
       "      <td>0.13372</td>\n",
       "      <td>0.22608</td>\n",
       "    </tr>\n",
       "    <tr>\n",
       "      <th>98</th>\n",
       "      <td>98</td>\n",
       "      <td>0.13344</td>\n",
       "      <td>0.22611</td>\n",
       "    </tr>\n",
       "    <tr>\n",
       "      <th>99</th>\n",
       "      <td>99</td>\n",
       "      <td>0.13299</td>\n",
       "      <td>0.22610</td>\n",
       "    </tr>\n",
       "  </tbody>\n",
       "</table>\n",
       "<p>100 rows × 3 columns</p>\n",
       "</div>"
      ],
      "text/plain": [
       "    num_iter  train_rmse  val_rmse\n",
       "0          0     8.12733   8.13245\n",
       "1          1     5.69586   5.70070\n",
       "2          2     3.99540   4.00041\n",
       "3          3     2.80712   2.81079\n",
       "4          4     1.97834   1.98175\n",
       "..       ...         ...       ...\n",
       "95        95     0.13553   0.22630\n",
       "96        96     0.13458   0.22620\n",
       "97        97     0.13372   0.22608\n",
       "98        98     0.13344   0.22611\n",
       "99        99     0.13299   0.22610\n",
       "\n",
       "[100 rows x 3 columns]"
      ]
     },
     "execution_count": 45,
     "metadata": {},
     "output_type": "execute_result"
    }
   ],
   "source": [
    "df_results_03 = parse_xgb_output(output)\n",
    "df_results_03"
   ]
  },
  {
   "cell_type": "code",
   "execution_count": 46,
   "id": "269a686f",
   "metadata": {},
   "outputs": [],
   "source": [
    "%%capture output\n",
    "\n",
    "# change eta to 0.1\n",
    "\n",
    "xgb_params_01 = {\n",
    "    'eta': 0.1, \n",
    "    'max_depth': 6,\n",
    "    'min_child_weight': 1,\n",
    "    \n",
    "    'objective': 'reg:squarederror',\n",
    "    'nthread': 8,\n",
    "    \n",
    "    'seed': 1,\n",
    "    'verbosity': 1,\n",
    "}\n",
    "\n",
    "model = xgb.train(xgb_params_01, dtrain, num_boost_round=100,\n",
    "                  verbose_eval=1,\n",
    "                  evals=watchlist_01)"
   ]
  },
  {
   "cell_type": "code",
   "execution_count": 47,
   "id": "9bc00554",
   "metadata": {},
   "outputs": [
    {
     "data": {
      "text/html": [
       "<div>\n",
       "<style scoped>\n",
       "    .dataframe tbody tr th:only-of-type {\n",
       "        vertical-align: middle;\n",
       "    }\n",
       "\n",
       "    .dataframe tbody tr th {\n",
       "        vertical-align: top;\n",
       "    }\n",
       "\n",
       "    .dataframe thead th {\n",
       "        text-align: right;\n",
       "    }\n",
       "</style>\n",
       "<table border=\"1\" class=\"dataframe\">\n",
       "  <thead>\n",
       "    <tr style=\"text-align: right;\">\n",
       "      <th></th>\n",
       "      <th>num_iter</th>\n",
       "      <th>train_rmse</th>\n",
       "      <th>val_rmse</th>\n",
       "    </tr>\n",
       "  </thead>\n",
       "  <tbody>\n",
       "    <tr>\n",
       "      <th>0</th>\n",
       "      <td>0</td>\n",
       "      <td>10.44372</td>\n",
       "      <td>10.44938</td>\n",
       "    </tr>\n",
       "    <tr>\n",
       "      <th>1</th>\n",
       "      <td>1</td>\n",
       "      <td>9.40118</td>\n",
       "      <td>9.40684</td>\n",
       "    </tr>\n",
       "    <tr>\n",
       "      <th>2</th>\n",
       "      <td>2</td>\n",
       "      <td>8.46290</td>\n",
       "      <td>8.46831</td>\n",
       "    </tr>\n",
       "    <tr>\n",
       "      <th>3</th>\n",
       "      <td>3</td>\n",
       "      <td>7.61859</td>\n",
       "      <td>7.62391</td>\n",
       "    </tr>\n",
       "    <tr>\n",
       "      <th>4</th>\n",
       "      <td>4</td>\n",
       "      <td>6.85878</td>\n",
       "      <td>6.86368</td>\n",
       "    </tr>\n",
       "    <tr>\n",
       "      <th>...</th>\n",
       "      <td>...</td>\n",
       "      <td>...</td>\n",
       "      <td>...</td>\n",
       "    </tr>\n",
       "    <tr>\n",
       "      <th>95</th>\n",
       "      <td>95</td>\n",
       "      <td>0.18541</td>\n",
       "      <td>0.23106</td>\n",
       "    </tr>\n",
       "    <tr>\n",
       "      <th>96</th>\n",
       "      <td>96</td>\n",
       "      <td>0.18470</td>\n",
       "      <td>0.23089</td>\n",
       "    </tr>\n",
       "    <tr>\n",
       "      <th>97</th>\n",
       "      <td>97</td>\n",
       "      <td>0.18405</td>\n",
       "      <td>0.23067</td>\n",
       "    </tr>\n",
       "    <tr>\n",
       "      <th>98</th>\n",
       "      <td>98</td>\n",
       "      <td>0.18385</td>\n",
       "      <td>0.23057</td>\n",
       "    </tr>\n",
       "    <tr>\n",
       "      <th>99</th>\n",
       "      <td>99</td>\n",
       "      <td>0.18329</td>\n",
       "      <td>0.23054</td>\n",
       "    </tr>\n",
       "  </tbody>\n",
       "</table>\n",
       "<p>100 rows × 3 columns</p>\n",
       "</div>"
      ],
      "text/plain": [
       "    num_iter  train_rmse  val_rmse\n",
       "0          0    10.44372  10.44938\n",
       "1          1     9.40118   9.40684\n",
       "2          2     8.46290   8.46831\n",
       "3          3     7.61859   7.62391\n",
       "4          4     6.85878   6.86368\n",
       "..       ...         ...       ...\n",
       "95        95     0.18541   0.23106\n",
       "96        96     0.18470   0.23089\n",
       "97        97     0.18405   0.23067\n",
       "98        98     0.18385   0.23057\n",
       "99        99     0.18329   0.23054\n",
       "\n",
       "[100 rows x 3 columns]"
      ]
     },
     "execution_count": 47,
     "metadata": {},
     "output_type": "execute_result"
    }
   ],
   "source": [
    "df_results_01 = parse_xgb_output(output)\n",
    "df_results_01"
   ]
  },
  {
   "cell_type": "code",
   "execution_count": 48,
   "id": "459b229c",
   "metadata": {},
   "outputs": [
    {
     "data": {
      "text/plain": [
       "<matplotlib.legend.Legend at 0x7ffae96e4700>"
      ]
     },
     "execution_count": 48,
     "metadata": {},
     "output_type": "execute_result"
    },
    {
     "data": {
      "image/png": "[encoded data removed]",
      "text/plain": [
       "<Figure size 432x288 with 1 Axes>"
      ]
     },
     "metadata": {
      "needs_background": "light"
     },
     "output_type": "display_data"
    }
   ],
   "source": [
    "plt.plot(df_results_01.num_iter, df_results_01.train_rmse, label='train_eta=0.1')\n",
    "plt.plot(df_results_01.num_iter, df_results_01.val_rmse, label='val_eta=0.1')\n",
    "plt.plot(df_results_03.num_iter, df_results_03.train_rmse, label='train_eta=0.3')\n",
    "plt.plot(df_results_03.num_iter, df_results_03.val_rmse, label='val_eta=0.3')\n",
    "plt.legend()"
   ]
  },
  {
   "cell_type": "code",
   "execution_count": 49,
   "id": "7e3e25df",
   "metadata": {},
   "outputs": [
    {
     "data": {
      "text/html": [
       "<div>\n",
       "<style scoped>\n",
       "    .dataframe tbody tr th:only-of-type {\n",
       "        vertical-align: middle;\n",
       "    }\n",
       "\n",
       "    .dataframe tbody tr th {\n",
       "        vertical-align: top;\n",
       "    }\n",
       "\n",
       "    .dataframe thead th {\n",
       "        text-align: right;\n",
       "    }\n",
       "</style>\n",
       "<table border=\"1\" class=\"dataframe\">\n",
       "  <thead>\n",
       "    <tr style=\"text-align: right;\">\n",
       "      <th></th>\n",
       "      <th>num_iter</th>\n",
       "      <th>train_rmse</th>\n",
       "      <th>val_rmse</th>\n",
       "    </tr>\n",
       "  </thead>\n",
       "  <tbody>\n",
       "    <tr>\n",
       "      <th>count</th>\n",
       "      <td>100.000000</td>\n",
       "      <td>100.000000</td>\n",
       "      <td>100.000000</td>\n",
       "    </tr>\n",
       "    <tr>\n",
       "      <th>mean</th>\n",
       "      <td>49.500000</td>\n",
       "      <td>0.424271</td>\n",
       "      <td>0.480036</td>\n",
       "    </tr>\n",
       "    <tr>\n",
       "      <th>std</th>\n",
       "      <td>29.011492</td>\n",
       "      <td>1.078225</td>\n",
       "      <td>1.065971</td>\n",
       "    </tr>\n",
       "    <tr>\n",
       "      <th>min</th>\n",
       "      <td>0.000000</td>\n",
       "      <td>0.132990</td>\n",
       "      <td>0.225790</td>\n",
       "    </tr>\n",
       "    <tr>\n",
       "      <th>25%</th>\n",
       "      <td>24.750000</td>\n",
       "      <td>0.150587</td>\n",
       "      <td>0.227670</td>\n",
       "    </tr>\n",
       "    <tr>\n",
       "      <th>50%</th>\n",
       "      <td>49.500000</td>\n",
       "      <td>0.169725</td>\n",
       "      <td>0.231150</td>\n",
       "    </tr>\n",
       "    <tr>\n",
       "      <th>75%</th>\n",
       "      <td>74.250000</td>\n",
       "      <td>0.204720</td>\n",
       "      <td>0.241355</td>\n",
       "    </tr>\n",
       "    <tr>\n",
       "      <th>max</th>\n",
       "      <td>99.000000</td>\n",
       "      <td>8.127330</td>\n",
       "      <td>8.132450</td>\n",
       "    </tr>\n",
       "  </tbody>\n",
       "</table>\n",
       "</div>"
      ],
      "text/plain": [
       "         num_iter  train_rmse    val_rmse\n",
       "count  100.000000  100.000000  100.000000\n",
       "mean    49.500000    0.424271    0.480036\n",
       "std     29.011492    1.078225    1.065971\n",
       "min      0.000000    0.132990    0.225790\n",
       "25%     24.750000    0.150587    0.227670\n",
       "50%     49.500000    0.169725    0.231150\n",
       "75%     74.250000    0.204720    0.241355\n",
       "max     99.000000    8.127330    8.132450"
      ]
     },
     "execution_count": 49,
     "metadata": {},
     "output_type": "execute_result"
    }
   ],
   "source": [
    "df_results_03.describe()"
   ]
  },
  {
   "cell_type": "code",
   "execution_count": 50,
   "id": "dc56331f",
   "metadata": {},
   "outputs": [
    {
     "data": {
      "text/html": [
       "<div>\n",
       "<style scoped>\n",
       "    .dataframe tbody tr th:only-of-type {\n",
       "        vertical-align: middle;\n",
       "    }\n",
       "\n",
       "    .dataframe tbody tr th {\n",
       "        vertical-align: top;\n",
       "    }\n",
       "\n",
       "    .dataframe thead th {\n",
       "        text-align: right;\n",
       "    }\n",
       "</style>\n",
       "<table border=\"1\" class=\"dataframe\">\n",
       "  <thead>\n",
       "    <tr style=\"text-align: right;\">\n",
       "      <th></th>\n",
       "      <th>num_iter</th>\n",
       "      <th>train_rmse</th>\n",
       "      <th>val_rmse</th>\n",
       "    </tr>\n",
       "  </thead>\n",
       "  <tbody>\n",
       "    <tr>\n",
       "      <th>count</th>\n",
       "      <td>100.000000</td>\n",
       "      <td>100.000000</td>\n",
       "      <td>100.000000</td>\n",
       "    </tr>\n",
       "    <tr>\n",
       "      <th>mean</th>\n",
       "      <td>49.500000</td>\n",
       "      <td>1.171136</td>\n",
       "      <td>1.195463</td>\n",
       "    </tr>\n",
       "    <tr>\n",
       "      <th>std</th>\n",
       "      <td>29.011492</td>\n",
       "      <td>2.114601</td>\n",
       "      <td>2.105760</td>\n",
       "    </tr>\n",
       "    <tr>\n",
       "      <th>min</th>\n",
       "      <td>0.000000</td>\n",
       "      <td>0.183290</td>\n",
       "      <td>0.230540</td>\n",
       "    </tr>\n",
       "    <tr>\n",
       "      <th>25%</th>\n",
       "      <td>24.750000</td>\n",
       "      <td>0.197400</td>\n",
       "      <td>0.235190</td>\n",
       "    </tr>\n",
       "    <tr>\n",
       "      <th>50%</th>\n",
       "      <td>49.500000</td>\n",
       "      <td>0.227330</td>\n",
       "      <td>0.254275</td>\n",
       "    </tr>\n",
       "    <tr>\n",
       "      <th>75%</th>\n",
       "      <td>74.250000</td>\n",
       "      <td>0.819283</td>\n",
       "      <td>0.826368</td>\n",
       "    </tr>\n",
       "    <tr>\n",
       "      <th>max</th>\n",
       "      <td>99.000000</td>\n",
       "      <td>10.443720</td>\n",
       "      <td>10.449380</td>\n",
       "    </tr>\n",
       "  </tbody>\n",
       "</table>\n",
       "</div>"
      ],
      "text/plain": [
       "         num_iter  train_rmse    val_rmse\n",
       "count  100.000000  100.000000  100.000000\n",
       "mean    49.500000    1.171136    1.195463\n",
       "std     29.011492    2.114601    2.105760\n",
       "min      0.000000    0.183290    0.230540\n",
       "25%     24.750000    0.197400    0.235190\n",
       "50%     49.500000    0.227330    0.254275\n",
       "75%     74.250000    0.819283    0.826368\n",
       "max     99.000000   10.443720   10.449380"
      ]
     },
     "execution_count": 50,
     "metadata": {},
     "output_type": "execute_result"
    }
   ],
   "source": [
    "df_results_01.describe()"
   ]
  },
  {
   "cell_type": "code",
   "execution_count": 52,
   "id": "4757b1fa",
   "metadata": {},
   "outputs": [],
   "source": [
    "# Answer to Question 6: eta = 0.3 leads to the best RMSE score on the validation dataset\n",
    "# For eta=0.3, min(val_rmse)= 0.225790 < min(val_rmse)= 0.230540 for eta=0.1, \n",
    "# and eta=0.3 converges much faster; its curve is lower than eta=0.1 graph for the most part"
   ]
  },
  {
   "cell_type": "code",
   "execution_count": null,
   "id": "48d3a1f1",
   "metadata": {},
   "outputs": [],
   "source": []
  }
 ],
 "metadata": {
  "kernelspec": {
   "display_name": "Python 3 (ipykernel)",
   "language": "python",
   "name": "python3"
  },
  "language_info": {
   "codemirror_mode": {
    "name": "ipython",
    "version": 3
   },
   "file_extension": ".py",
   "mimetype": "text/x-python",
   "name": "python",
   "nbconvert_exporter": "python",
   "pygments_lexer": "ipython3",
   "version": "3.9.10"
  }
 },
 "nbformat": 4,
 "nbformat_minor": 5
}
