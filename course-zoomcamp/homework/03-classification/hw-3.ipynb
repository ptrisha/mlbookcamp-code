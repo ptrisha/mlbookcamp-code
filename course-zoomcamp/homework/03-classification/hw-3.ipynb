{
 "cells": [
  {
   "cell_type": "markdown",
   "id": "034731c4",
   "metadata": {},
   "source": [
    "## Homework 3: Classification\n",
    "\n",
    "In this homework, we will use the California Housing Prices data from Kaggle."
   ]
  },
  {
   "cell_type": "code",
   "execution_count": 1,
   "id": "7e943525",
   "metadata": {},
   "outputs": [],
   "source": [
    "# import libraries\n",
    "\n",
    "import pandas as pd\n",
    "import numpy as np\n",
    "import matplotlib.pyplot as plt\n",
    "import seaborn as sns"
   ]
  },
  {
   "cell_type": "code",
   "execution_count": 2,
   "id": "2d47bed2",
   "metadata": {},
   "outputs": [],
   "source": [
    "# download dataset from internet\n",
    "\n",
    "#!wget https://raw.githubusercontent.com/alexeygrigorev/datasets/master/housing.csv"
   ]
  },
  {
   "cell_type": "code",
   "execution_count": 3,
   "id": "435261db",
   "metadata": {},
   "outputs": [
    {
     "data": {
      "text/html": [
       "<div>\n",
       "<style scoped>\n",
       "    .dataframe tbody tr th:only-of-type {\n",
       "        vertical-align: middle;\n",
       "    }\n",
       "\n",
       "    .dataframe tbody tr th {\n",
       "        vertical-align: top;\n",
       "    }\n",
       "\n",
       "    .dataframe thead th {\n",
       "        text-align: right;\n",
       "    }\n",
       "</style>\n",
       "<table border=\"1\" class=\"dataframe\">\n",
       "  <thead>\n",
       "    <tr style=\"text-align: right;\">\n",
       "      <th></th>\n",
       "      <th>longitude</th>\n",
       "      <th>latitude</th>\n",
       "      <th>housing_median_age</th>\n",
       "      <th>total_rooms</th>\n",
       "      <th>total_bedrooms</th>\n",
       "      <th>population</th>\n",
       "      <th>households</th>\n",
       "      <th>median_income</th>\n",
       "      <th>median_house_value</th>\n",
       "      <th>ocean_proximity</th>\n",
       "    </tr>\n",
       "  </thead>\n",
       "  <tbody>\n",
       "    <tr>\n",
       "      <th>0</th>\n",
       "      <td>-122.23</td>\n",
       "      <td>37.88</td>\n",
       "      <td>41.0</td>\n",
       "      <td>880.0</td>\n",
       "      <td>129.0</td>\n",
       "      <td>322.0</td>\n",
       "      <td>126.0</td>\n",
       "      <td>8.3252</td>\n",
       "      <td>452600.0</td>\n",
       "      <td>NEAR BAY</td>\n",
       "    </tr>\n",
       "    <tr>\n",
       "      <th>1</th>\n",
       "      <td>-122.22</td>\n",
       "      <td>37.86</td>\n",
       "      <td>21.0</td>\n",
       "      <td>7099.0</td>\n",
       "      <td>1106.0</td>\n",
       "      <td>2401.0</td>\n",
       "      <td>1138.0</td>\n",
       "      <td>8.3014</td>\n",
       "      <td>358500.0</td>\n",
       "      <td>NEAR BAY</td>\n",
       "    </tr>\n",
       "  </tbody>\n",
       "</table>\n",
       "</div>"
      ],
      "text/plain": [
       "   longitude  latitude  housing_median_age  total_rooms  total_bedrooms  \\\n",
       "0    -122.23     37.88                41.0        880.0           129.0   \n",
       "1    -122.22     37.86                21.0       7099.0          1106.0   \n",
       "\n",
       "   population  households  median_income  median_house_value ocean_proximity  \n",
       "0       322.0       126.0         8.3252            452600.0        NEAR BAY  \n",
       "1      2401.0      1138.0         8.3014            358500.0        NEAR BAY  "
      ]
     },
     "execution_count": 3,
     "metadata": {},
     "output_type": "execute_result"
    }
   ],
   "source": [
    "# read the data into pandas dataframe\n",
    "df_orig = pd.read_csv(\"housing.csv\")\n",
    "df_orig.head(n=2)"
   ]
  },
  {
   "cell_type": "markdown",
   "id": "94f875c7",
   "metadata": {},
   "source": [
    "## Data Preparation"
   ]
  },
  {
   "cell_type": "code",
   "execution_count": 4,
   "id": "4cc34de5",
   "metadata": {},
   "outputs": [
    {
     "name": "stdout",
     "output_type": "stream",
     "text": [
      "<class 'pandas.core.frame.DataFrame'>\n",
      "RangeIndex: 20640 entries, 0 to 20639\n",
      "Data columns (total 10 columns):\n",
      " #   Column              Non-Null Count  Dtype  \n",
      "---  ------              --------------  -----  \n",
      " 0   latitude            20640 non-null  float64\n",
      " 1   longitude           20640 non-null  float64\n",
      " 2   housing_median_age  20640 non-null  float64\n",
      " 3   total_rooms         20640 non-null  float64\n",
      " 4   total_bedrooms      20433 non-null  float64\n",
      " 5   population          20640 non-null  float64\n",
      " 6   households          20640 non-null  float64\n",
      " 7   median_income       20640 non-null  float64\n",
      " 8   median_house_value  20640 non-null  float64\n",
      " 9   ocean_proximity     20640 non-null  object \n",
      "dtypes: float64(9), object(1)\n",
      "memory usage: 1.6+ MB\n"
     ]
    }
   ],
   "source": [
    "# use only the following features\n",
    "features_list= ['latitude',\n",
    "'longitude',\n",
    "'housing_median_age',\n",
    "'total_rooms',\n",
    "'total_bedrooms',\n",
    "'population',\n",
    "'households',\n",
    "'median_income',\n",
    "'median_house_value',\n",
    "'ocean_proximity']\n",
    "df = df_orig[ features_list ]\n",
    "df.info()"
   ]
  },
  {
   "cell_type": "code",
   "execution_count": 5,
   "id": "7c6dbb69",
   "metadata": {},
   "outputs": [
    {
     "data": {
      "text/plain": [
       "latitude                0\n",
       "longitude               0\n",
       "housing_median_age      0\n",
       "total_rooms             0\n",
       "total_bedrooms        207\n",
       "population              0\n",
       "households              0\n",
       "median_income           0\n",
       "median_house_value      0\n",
       "ocean_proximity         0\n",
       "dtype: int64"
      ]
     },
     "execution_count": 5,
     "metadata": {},
     "output_type": "execute_result"
    }
   ],
   "source": [
    "df.isnull().sum()"
   ]
  },
  {
   "cell_type": "code",
   "execution_count": 6,
   "id": "9bac1975",
   "metadata": {},
   "outputs": [
    {
     "data": {
      "text/plain": [
       "latitude              0\n",
       "longitude             0\n",
       "housing_median_age    0\n",
       "total_rooms           0\n",
       "total_bedrooms        0\n",
       "population            0\n",
       "households            0\n",
       "median_income         0\n",
       "median_house_value    0\n",
       "ocean_proximity       0\n",
       "dtype: int64"
      ]
     },
     "execution_count": 6,
     "metadata": {},
     "output_type": "execute_result"
    }
   ],
   "source": [
    "# fill in missing values with value 0\n",
    "df.total_bedrooms = df.total_bedrooms.fillna(0)\n",
    "df.isnull().sum()"
   ]
  },
  {
   "cell_type": "markdown",
   "id": "7394725a",
   "metadata": {},
   "source": [
    "* Create a new column _rooms_per_household_ by dividing the column _total_rooms_ by the column _households_ from dataframe.\n",
    "* Create a new column _bedrooms_per_room_ by dividing the column _total_bedrooms_ by the column _total_rooms_ from dataframe.\n",
    "* Create a new column _population_per_household_ by dividing the column _population_ by the column _households_ from dataframe.\n"
   ]
  },
  {
   "cell_type": "code",
   "execution_count": 7,
   "id": "04a59ce5",
   "metadata": {},
   "outputs": [
    {
     "data": {
      "text/plain": [
       "latitude                    0\n",
       "longitude                   0\n",
       "housing_median_age          0\n",
       "total_rooms                 0\n",
       "total_bedrooms              0\n",
       "population                  0\n",
       "households                  0\n",
       "median_income               0\n",
       "median_house_value          0\n",
       "ocean_proximity             0\n",
       "rooms_per_household         0\n",
       "bedrooms_per_room           0\n",
       "population_per_household    0\n",
       "dtype: int64"
      ]
     },
     "execution_count": 7,
     "metadata": {},
     "output_type": "execute_result"
    }
   ],
   "source": [
    "df['rooms_per_household'] = df.total_rooms/df.households\n",
    "df['bedrooms_per_room'] = df.total_bedrooms/df.total_rooms\n",
    "df['population_per_household']= df.population/df.households\n",
    "df.isnull().sum()"
   ]
  },
  {
   "cell_type": "markdown",
   "id": "508f7002",
   "metadata": {},
   "source": [
    "## Question 1\n",
    "\n",
    "What is the most frequent observation (mode) for the column _ocean_proximity_?\n",
    "\n",
    "Options:\n",
    "\n",
    "* NEAR BAY\n",
    "* <1H OCEAN\n",
    "* INLAND\n",
    "* NEAR OCEAN"
   ]
  },
  {
   "cell_type": "code",
   "execution_count": 8,
   "id": "bf6b9707",
   "metadata": {},
   "outputs": [
    {
     "data": {
      "text/plain": [
       "0    <1H OCEAN\n",
       "Name: ocean_proximity, dtype: object"
      ]
     },
     "execution_count": 8,
     "metadata": {},
     "output_type": "execute_result"
    }
   ],
   "source": [
    "df.ocean_proximity.mode()"
   ]
  },
  {
   "cell_type": "code",
   "execution_count": 9,
   "id": "6e4aff18",
   "metadata": {},
   "outputs": [
    {
     "data": {
      "text/plain": [
       "<1H OCEAN     9136\n",
       "INLAND        6551\n",
       "NEAR OCEAN    2658\n",
       "NEAR BAY      2290\n",
       "ISLAND           5\n",
       "Name: ocean_proximity, dtype: int64"
      ]
     },
     "execution_count": 9,
     "metadata": {},
     "output_type": "execute_result"
    }
   ],
   "source": [
    "# Answer: mode is <1H OCEAN; let's double check\n",
    "df.ocean_proximity.value_counts()"
   ]
  },
  {
   "cell_type": "markdown",
   "id": "44682cba",
   "metadata": {},
   "source": [
    "## Split the Data\n",
    "\n",
    "* Split your data in train/val/test sets, with 60%/20%/20% distribution.\n",
    "* Use Scikit-Learn for that (the train_test_split function) and set the seed to 42.\n",
    "* Make sure that the target value (median_house_value) is not in your dataframe.(???)"
   ]
  },
  {
   "cell_type": "code",
   "execution_count": 10,
   "id": "56a4c4c6",
   "metadata": {},
   "outputs": [],
   "source": [
    "from sklearn.model_selection import train_test_split"
   ]
  },
  {
   "cell_type": "code",
   "execution_count": 11,
   "id": "74938db8",
   "metadata": {},
   "outputs": [],
   "source": [
    "df_full_train, df_test = train_test_split(df, test_size=0.2, random_state=42)\n",
    "df_train, df_val = train_test_split(df_full_train, test_size=0.25, random_state=42)"
   ]
  },
  {
   "cell_type": "code",
   "execution_count": 12,
   "id": "3a0d686d",
   "metadata": {},
   "outputs": [
    {
     "data": {
      "text/plain": [
       "(12384, 4128, 4128)"
      ]
     },
     "execution_count": 12,
     "metadata": {},
     "output_type": "execute_result"
    }
   ],
   "source": [
    "len(df_train), len(df_val), len(df_test)"
   ]
  },
  {
   "cell_type": "code",
   "execution_count": 13,
   "id": "618b1ed5",
   "metadata": {},
   "outputs": [],
   "source": [
    "# reset index\n",
    "df_train = df_train.reset_index(drop=True)\n",
    "df_val = df_val.reset_index(drop=True)\n",
    "df_test = df_test.reset_index(drop=True)"
   ]
  },
  {
   "cell_type": "code",
   "execution_count": 14,
   "id": "f6ba52a0",
   "metadata": {},
   "outputs": [],
   "source": [
    "y_train = df_train.median_house_value\n",
    "y_val = df_val.median_house_value\n",
    "y_test = df_test.median_house_value\n",
    "\n",
    "del df_train['median_house_value']\n",
    "del df_val['median_house_value']\n",
    "del df_test['median_house_value']"
   ]
  },
  {
   "cell_type": "markdown",
   "id": "2400e2d1",
   "metadata": {},
   "source": [
    "## Question 2  \n",
    "\n",
    "Create the correlation matrix for the numerical features of your train dataset. \n",
    "\n",
    "In a correlation matrix, you compute the correlation coefficient between every pair of features in the dataset.  \n",
    "\n",
    "What are the two features that have the biggest correlation in this dataset?\n",
    "\n",
    "Options:\n",
    "* _total_bedrooms_ and _households_\n",
    "* _total_bedrooms_ and _total_rooms_\n",
    "* _population_ and _households_\n",
    "* _population_per_household_ and _total_rooms_"
   ]
  },
  {
   "cell_type": "code",
   "execution_count": 15,
   "id": "d60e3f3c",
   "metadata": {},
   "outputs": [
    {
     "data": {
      "text/plain": [
       "['latitude',\n",
       " 'longitude',\n",
       " 'housing_median_age',\n",
       " 'total_rooms',\n",
       " 'total_bedrooms',\n",
       " 'population',\n",
       " 'households',\n",
       " 'median_income',\n",
       " 'rooms_per_household',\n",
       " 'bedrooms_per_room',\n",
       " 'population_per_household']"
      ]
     },
     "execution_count": 15,
     "metadata": {},
     "output_type": "execute_result"
    }
   ],
   "source": [
    "numerical_features = list( df_train.dtypes[ df_train.dtypes != 'object' ].index )\n",
    "numerical_features"
   ]
  },
  {
   "cell_type": "code",
   "execution_count": 16,
   "id": "001ea849",
   "metadata": {},
   "outputs": [
    {
     "data": {
      "text/html": [
       "<div>\n",
       "<style scoped>\n",
       "    .dataframe tbody tr th:only-of-type {\n",
       "        vertical-align: middle;\n",
       "    }\n",
       "\n",
       "    .dataframe tbody tr th {\n",
       "        vertical-align: top;\n",
       "    }\n",
       "\n",
       "    .dataframe thead th {\n",
       "        text-align: right;\n",
       "    }\n",
       "</style>\n",
       "<table border=\"1\" class=\"dataframe\">\n",
       "  <thead>\n",
       "    <tr style=\"text-align: right;\">\n",
       "      <th></th>\n",
       "      <th>latitude</th>\n",
       "      <th>longitude</th>\n",
       "      <th>housing_median_age</th>\n",
       "      <th>total_rooms</th>\n",
       "      <th>total_bedrooms</th>\n",
       "      <th>population</th>\n",
       "      <th>households</th>\n",
       "      <th>median_income</th>\n",
       "      <th>rooms_per_household</th>\n",
       "      <th>bedrooms_per_room</th>\n",
       "      <th>population_per_household</th>\n",
       "    </tr>\n",
       "  </thead>\n",
       "  <tbody>\n",
       "    <tr>\n",
       "      <th>0</th>\n",
       "      <td>34.43</td>\n",
       "      <td>-119.67</td>\n",
       "      <td>39.0</td>\n",
       "      <td>1467.0</td>\n",
       "      <td>381.0</td>\n",
       "      <td>1404.0</td>\n",
       "      <td>374.0</td>\n",
       "      <td>2.3681</td>\n",
       "      <td>3.922460</td>\n",
       "      <td>0.259714</td>\n",
       "      <td>3.754011</td>\n",
       "    </tr>\n",
       "    <tr>\n",
       "      <th>1</th>\n",
       "      <td>33.74</td>\n",
       "      <td>-118.32</td>\n",
       "      <td>24.0</td>\n",
       "      <td>6097.0</td>\n",
       "      <td>794.0</td>\n",
       "      <td>2248.0</td>\n",
       "      <td>806.0</td>\n",
       "      <td>10.1357</td>\n",
       "      <td>7.564516</td>\n",
       "      <td>0.130228</td>\n",
       "      <td>2.789082</td>\n",
       "    </tr>\n",
       "    <tr>\n",
       "      <th>2</th>\n",
       "      <td>39.13</td>\n",
       "      <td>-121.62</td>\n",
       "      <td>41.0</td>\n",
       "      <td>1317.0</td>\n",
       "      <td>309.0</td>\n",
       "      <td>856.0</td>\n",
       "      <td>337.0</td>\n",
       "      <td>1.6719</td>\n",
       "      <td>3.908012</td>\n",
       "      <td>0.234624</td>\n",
       "      <td>2.540059</td>\n",
       "    </tr>\n",
       "  </tbody>\n",
       "</table>\n",
       "</div>"
      ],
      "text/plain": [
       "   latitude  longitude  housing_median_age  total_rooms  total_bedrooms  \\\n",
       "0     34.43    -119.67                39.0       1467.0           381.0   \n",
       "1     33.74    -118.32                24.0       6097.0           794.0   \n",
       "2     39.13    -121.62                41.0       1317.0           309.0   \n",
       "\n",
       "   population  households  median_income  rooms_per_household  \\\n",
       "0      1404.0       374.0         2.3681             3.922460   \n",
       "1      2248.0       806.0        10.1357             7.564516   \n",
       "2       856.0       337.0         1.6719             3.908012   \n",
       "\n",
       "   bedrooms_per_room  population_per_household  \n",
       "0           0.259714                  3.754011  \n",
       "1           0.130228                  2.789082  \n",
       "2           0.234624                  2.540059  "
      ]
     },
     "execution_count": 16,
     "metadata": {},
     "output_type": "execute_result"
    }
   ],
   "source": [
    "df_train_numerical = df_train[ numerical_features ]\n",
    "df_train_numerical.head(n=3)"
   ]
  },
  {
   "cell_type": "code",
   "execution_count": 17,
   "id": "84afd49e",
   "metadata": {},
   "outputs": [
    {
     "data": {
      "text/html": [
       "<div>\n",
       "<style scoped>\n",
       "    .dataframe tbody tr th:only-of-type {\n",
       "        vertical-align: middle;\n",
       "    }\n",
       "\n",
       "    .dataframe tbody tr th {\n",
       "        vertical-align: top;\n",
       "    }\n",
       "\n",
       "    .dataframe thead th {\n",
       "        text-align: right;\n",
       "    }\n",
       "</style>\n",
       "<table border=\"1\" class=\"dataframe\">\n",
       "  <thead>\n",
       "    <tr style=\"text-align: right;\">\n",
       "      <th></th>\n",
       "      <th>latitude</th>\n",
       "      <th>longitude</th>\n",
       "      <th>housing_median_age</th>\n",
       "      <th>total_rooms</th>\n",
       "      <th>total_bedrooms</th>\n",
       "      <th>population</th>\n",
       "      <th>households</th>\n",
       "      <th>median_income</th>\n",
       "      <th>rooms_per_household</th>\n",
       "      <th>bedrooms_per_room</th>\n",
       "      <th>population_per_household</th>\n",
       "    </tr>\n",
       "  </thead>\n",
       "  <tbody>\n",
       "    <tr>\n",
       "      <th>latitude</th>\n",
       "      <td>1.000000</td>\n",
       "      <td>-0.925005</td>\n",
       "      <td>0.002477</td>\n",
       "      <td>-0.025914</td>\n",
       "      <td>-0.059730</td>\n",
       "      <td>-0.100272</td>\n",
       "      <td>-0.063529</td>\n",
       "      <td>-0.076805</td>\n",
       "      <td>0.119118</td>\n",
       "      <td>-0.124507</td>\n",
       "      <td>-0.002301</td>\n",
       "    </tr>\n",
       "    <tr>\n",
       "      <th>longitude</th>\n",
       "      <td>-0.925005</td>\n",
       "      <td>1.000000</td>\n",
       "      <td>-0.099812</td>\n",
       "      <td>0.036449</td>\n",
       "      <td>0.063840</td>\n",
       "      <td>0.091670</td>\n",
       "      <td>0.049762</td>\n",
       "      <td>-0.016426</td>\n",
       "      <td>-0.034814</td>\n",
       "      <td>0.102320</td>\n",
       "      <td>0.011022</td>\n",
       "    </tr>\n",
       "    <tr>\n",
       "      <th>housing_median_age</th>\n",
       "      <td>0.002477</td>\n",
       "      <td>-0.099812</td>\n",
       "      <td>1.000000</td>\n",
       "      <td>-0.363522</td>\n",
       "      <td>-0.324156</td>\n",
       "      <td>-0.292476</td>\n",
       "      <td>-0.306119</td>\n",
       "      <td>-0.119591</td>\n",
       "      <td>-0.181275</td>\n",
       "      <td>0.129456</td>\n",
       "      <td>0.012167</td>\n",
       "    </tr>\n",
       "    <tr>\n",
       "      <th>total_rooms</th>\n",
       "      <td>-0.025914</td>\n",
       "      <td>0.036449</td>\n",
       "      <td>-0.363522</td>\n",
       "      <td>1.000000</td>\n",
       "      <td>0.931546</td>\n",
       "      <td>0.853219</td>\n",
       "      <td>0.921441</td>\n",
       "      <td>0.198951</td>\n",
       "      <td>0.168926</td>\n",
       "      <td>-0.194185</td>\n",
       "      <td>-0.029452</td>\n",
       "    </tr>\n",
       "    <tr>\n",
       "      <th>total_bedrooms</th>\n",
       "      <td>-0.059730</td>\n",
       "      <td>0.063840</td>\n",
       "      <td>-0.324156</td>\n",
       "      <td>0.931546</td>\n",
       "      <td>1.000000</td>\n",
       "      <td>0.877340</td>\n",
       "      <td>0.979399</td>\n",
       "      <td>-0.009833</td>\n",
       "      <td>0.010381</td>\n",
       "      <td>0.078094</td>\n",
       "      <td>-0.034301</td>\n",
       "    </tr>\n",
       "    <tr>\n",
       "      <th>population</th>\n",
       "      <td>-0.100272</td>\n",
       "      <td>0.091670</td>\n",
       "      <td>-0.292476</td>\n",
       "      <td>0.853219</td>\n",
       "      <td>0.877340</td>\n",
       "      <td>1.000000</td>\n",
       "      <td>0.906841</td>\n",
       "      <td>-0.000849</td>\n",
       "      <td>-0.076210</td>\n",
       "      <td>0.031592</td>\n",
       "      <td>0.064998</td>\n",
       "    </tr>\n",
       "    <tr>\n",
       "      <th>households</th>\n",
       "      <td>-0.063529</td>\n",
       "      <td>0.049762</td>\n",
       "      <td>-0.306119</td>\n",
       "      <td>0.921441</td>\n",
       "      <td>0.979399</td>\n",
       "      <td>0.906841</td>\n",
       "      <td>1.000000</td>\n",
       "      <td>0.011925</td>\n",
       "      <td>-0.085832</td>\n",
       "      <td>0.058004</td>\n",
       "      <td>-0.032522</td>\n",
       "    </tr>\n",
       "    <tr>\n",
       "      <th>median_income</th>\n",
       "      <td>-0.076805</td>\n",
       "      <td>-0.016426</td>\n",
       "      <td>-0.119591</td>\n",
       "      <td>0.198951</td>\n",
       "      <td>-0.009833</td>\n",
       "      <td>-0.000849</td>\n",
       "      <td>0.011925</td>\n",
       "      <td>1.000000</td>\n",
       "      <td>0.394154</td>\n",
       "      <td>-0.616617</td>\n",
       "      <td>-0.000454</td>\n",
       "    </tr>\n",
       "    <tr>\n",
       "      <th>rooms_per_household</th>\n",
       "      <td>0.119118</td>\n",
       "      <td>-0.034814</td>\n",
       "      <td>-0.181275</td>\n",
       "      <td>0.168926</td>\n",
       "      <td>0.010381</td>\n",
       "      <td>-0.076210</td>\n",
       "      <td>-0.085832</td>\n",
       "      <td>0.394154</td>\n",
       "      <td>1.000000</td>\n",
       "      <td>-0.500589</td>\n",
       "      <td>0.001801</td>\n",
       "    </tr>\n",
       "    <tr>\n",
       "      <th>bedrooms_per_room</th>\n",
       "      <td>-0.124507</td>\n",
       "      <td>0.102320</td>\n",
       "      <td>0.129456</td>\n",
       "      <td>-0.194185</td>\n",
       "      <td>0.078094</td>\n",
       "      <td>0.031592</td>\n",
       "      <td>0.058004</td>\n",
       "      <td>-0.616617</td>\n",
       "      <td>-0.500589</td>\n",
       "      <td>1.000000</td>\n",
       "      <td>-0.002851</td>\n",
       "    </tr>\n",
       "    <tr>\n",
       "      <th>population_per_household</th>\n",
       "      <td>-0.002301</td>\n",
       "      <td>0.011022</td>\n",
       "      <td>0.012167</td>\n",
       "      <td>-0.029452</td>\n",
       "      <td>-0.034301</td>\n",
       "      <td>0.064998</td>\n",
       "      <td>-0.032522</td>\n",
       "      <td>-0.000454</td>\n",
       "      <td>0.001801</td>\n",
       "      <td>-0.002851</td>\n",
       "      <td>1.000000</td>\n",
       "    </tr>\n",
       "  </tbody>\n",
       "</table>\n",
       "</div>"
      ],
      "text/plain": [
       "                          latitude  longitude  housing_median_age  \\\n",
       "latitude                  1.000000  -0.925005            0.002477   \n",
       "longitude                -0.925005   1.000000           -0.099812   \n",
       "housing_median_age        0.002477  -0.099812            1.000000   \n",
       "total_rooms              -0.025914   0.036449           -0.363522   \n",
       "total_bedrooms           -0.059730   0.063840           -0.324156   \n",
       "population               -0.100272   0.091670           -0.292476   \n",
       "households               -0.063529   0.049762           -0.306119   \n",
       "median_income            -0.076805  -0.016426           -0.119591   \n",
       "rooms_per_household       0.119118  -0.034814           -0.181275   \n",
       "bedrooms_per_room        -0.124507   0.102320            0.129456   \n",
       "population_per_household -0.002301   0.011022            0.012167   \n",
       "\n",
       "                          total_rooms  total_bedrooms  population  households  \\\n",
       "latitude                    -0.025914       -0.059730   -0.100272   -0.063529   \n",
       "longitude                    0.036449        0.063840    0.091670    0.049762   \n",
       "housing_median_age          -0.363522       -0.324156   -0.292476   -0.306119   \n",
       "total_rooms                  1.000000        0.931546    0.853219    0.921441   \n",
       "total_bedrooms               0.931546        1.000000    0.877340    0.979399   \n",
       "population                   0.853219        0.877340    1.000000    0.906841   \n",
       "households                   0.921441        0.979399    0.906841    1.000000   \n",
       "median_income                0.198951       -0.009833   -0.000849    0.011925   \n",
       "rooms_per_household          0.168926        0.010381   -0.076210   -0.085832   \n",
       "bedrooms_per_room           -0.194185        0.078094    0.031592    0.058004   \n",
       "population_per_household    -0.029452       -0.034301    0.064998   -0.032522   \n",
       "\n",
       "                          median_income  rooms_per_household  \\\n",
       "latitude                      -0.076805             0.119118   \n",
       "longitude                     -0.016426            -0.034814   \n",
       "housing_median_age            -0.119591            -0.181275   \n",
       "total_rooms                    0.198951             0.168926   \n",
       "total_bedrooms                -0.009833             0.010381   \n",
       "population                    -0.000849            -0.076210   \n",
       "households                     0.011925            -0.085832   \n",
       "median_income                  1.000000             0.394154   \n",
       "rooms_per_household            0.394154             1.000000   \n",
       "bedrooms_per_room             -0.616617            -0.500589   \n",
       "population_per_household      -0.000454             0.001801   \n",
       "\n",
       "                          bedrooms_per_room  population_per_household  \n",
       "latitude                          -0.124507                 -0.002301  \n",
       "longitude                          0.102320                  0.011022  \n",
       "housing_median_age                 0.129456                  0.012167  \n",
       "total_rooms                       -0.194185                 -0.029452  \n",
       "total_bedrooms                     0.078094                 -0.034301  \n",
       "population                         0.031592                  0.064998  \n",
       "households                         0.058004                 -0.032522  \n",
       "median_income                     -0.616617                 -0.000454  \n",
       "rooms_per_household               -0.500589                  0.001801  \n",
       "bedrooms_per_room                  1.000000                 -0.002851  \n",
       "population_per_household          -0.002851                  1.000000  "
      ]
     },
     "execution_count": 17,
     "metadata": {},
     "output_type": "execute_result"
    }
   ],
   "source": [
    "df_train_numerical.corr()"
   ]
  },
  {
   "cell_type": "code",
   "execution_count": 18,
   "id": "65552221",
   "metadata": {},
   "outputs": [
    {
     "data": {
      "text/plain": [
       "latitude                  latitude                    1.000000\n",
       "longitude                 longitude                   1.000000\n",
       "bedrooms_per_room         bedrooms_per_room           1.000000\n",
       "rooms_per_household       rooms_per_household         1.000000\n",
       "median_income             median_income               1.000000\n",
       "households                households                  1.000000\n",
       "total_bedrooms            total_bedrooms              1.000000\n",
       "total_rooms               total_rooms                 1.000000\n",
       "housing_median_age        housing_median_age          1.000000\n",
       "population                population                  1.000000\n",
       "population_per_household  population_per_household    1.000000\n",
       "households                total_bedrooms              0.979399\n",
       "total_bedrooms            households                  0.979399\n",
       "total_rooms               total_bedrooms              0.931546\n",
       "total_bedrooms            total_rooms                 0.931546\n",
       "longitude                 latitude                    0.925005\n",
       "latitude                  longitude                   0.925005\n",
       "households                total_rooms                 0.921441\n",
       "total_rooms               households                  0.921441\n",
       "population                households                  0.906841\n",
       "dtype: float64"
      ]
     },
     "execution_count": 18,
     "metadata": {},
     "output_type": "execute_result"
    }
   ],
   "source": [
    "corr = df_train_numerical.corr().abs().unstack()\n",
    "sorted = corr.sort_values(ascending=False)\n",
    "sorted[:20]"
   ]
  },
  {
   "cell_type": "code",
   "execution_count": 19,
   "id": "0b79c013",
   "metadata": {},
   "outputs": [],
   "source": [
    "#  two features that have the biggest correlation are: households and total_bedrooms"
   ]
  },
  {
   "cell_type": "markdown",
   "id": "c997837e",
   "metadata": {},
   "source": [
    "## Make median_house_value binary \n",
    "\n",
    "We need to turn the median_house_value variable from numeric into binary. \n",
    "\n",
    "Let's create a variable _above_average_ which is 1 if the _median_house_value_ is above its mean value and 0 otherwise.\n",
    "\n",
    "### Question 3\n",
    "\n",
    "Calculate the mutual information score with the (binarized) price for the categorical variable that we have. **Use the training set only.**  \n",
    "\n",
    "What is the value of mutual information? \n",
    "\n",
    "Round it to 2 decimal digits using round(score, 2)\n",
    "Options:\n",
    "* 0.26\n",
    "* 0\n",
    "* 0.10\n",
    "* 0.16"
   ]
  },
  {
   "cell_type": "code",
   "execution_count": 20,
   "id": "cbae92a8",
   "metadata": {},
   "outputs": [
    {
     "data": {
      "text/plain": [
       "0        1\n",
       "1        1\n",
       "2        0\n",
       "3        1\n",
       "4        1\n",
       "        ..\n",
       "12379    0\n",
       "12380    0\n",
       "12381    1\n",
       "12382    0\n",
       "12383    0\n",
       "Name: median_house_value, Length: 12384, dtype: int64"
      ]
     },
     "execution_count": 20,
     "metadata": {},
     "output_type": "execute_result"
    }
   ],
   "source": [
    "y_train_mean = y_train.mean()  # astype(int)\n",
    "above_average_train = ( y_train > y_train_mean ).astype(int)\n",
    "above_average_train"
   ]
  },
  {
   "cell_type": "code",
   "execution_count": 21,
   "id": "d56a8dc2",
   "metadata": {},
   "outputs": [],
   "source": [
    "from sklearn.metrics import mutual_info_score"
   ]
  },
  {
   "cell_type": "code",
   "execution_count": 22,
   "id": "e7529b40",
   "metadata": {},
   "outputs": [
    {
     "data": {
      "text/plain": [
       "0.10138385763624205"
      ]
     },
     "execution_count": 22,
     "metadata": {},
     "output_type": "execute_result"
    }
   ],
   "source": [
    "mutual_info_score(above_average_train, df_train.ocean_proximity)"
   ]
  },
  {
   "cell_type": "code",
   "execution_count": 23,
   "id": "ad924e66",
   "metadata": {},
   "outputs": [],
   "source": [
    "# Answer: The mutual information score is 0.10 (rounded to 2 dec. places). "
   ]
  },
  {
   "cell_type": "markdown",
   "id": "33fc1aed",
   "metadata": {},
   "source": [
    "### Question 4\n",
    "\n",
    "Now let's train a logistic regression. \n",
    "\n",
    "Remember that we have one categorical variable _ocean_proximity_ in the data. Include it using one-hot encoding.  \n",
    "\n",
    "Fit the model on the training dataset.\n",
    "To make sure the results are reproducible across different versions of Scikit-Learn, fit the model with these parameters:\n",
    "model = LogisticRegression(solver=\"liblinear\", C=1.0, max_iter=1000, random_state=42) \n",
    "\n",
    "Calculate the accuracy on the validation dataset and round it to 2 decimal digits.  \n",
    "\n",
    "Options:\n",
    "* 0.60\n",
    "* 0.72\n",
    "* 0.84\n",
    "* 0.95"
   ]
  },
  {
   "cell_type": "code",
   "execution_count": 24,
   "id": "543223e2",
   "metadata": {},
   "outputs": [
    {
     "data": {
      "text/plain": [
       "['latitude',\n",
       " 'longitude',\n",
       " 'housing_median_age',\n",
       " 'total_rooms',\n",
       " 'total_bedrooms',\n",
       " 'population',\n",
       " 'households',\n",
       " 'median_income',\n",
       " 'rooms_per_household',\n",
       " 'bedrooms_per_room',\n",
       " 'population_per_household']"
      ]
     },
     "execution_count": 24,
     "metadata": {},
     "output_type": "execute_result"
    }
   ],
   "source": [
    "# recap which features are numerical\n",
    "numerical_features"
   ]
  },
  {
   "cell_type": "code",
   "execution_count": 25,
   "id": "cfe818ad",
   "metadata": {},
   "outputs": [],
   "source": [
    "categorical_features = ['ocean_proximity']"
   ]
  },
  {
   "cell_type": "code",
   "execution_count": 26,
   "id": "bb72f6a3",
   "metadata": {},
   "outputs": [],
   "source": [
    "from sklearn.feature_extraction import DictVectorizer"
   ]
  },
  {
   "cell_type": "code",
   "execution_count": 27,
   "id": "c7a54193",
   "metadata": {},
   "outputs": [],
   "source": [
    "# carry out the one-hot encoding of features on training and validation sets\n",
    "\n",
    "dv = DictVectorizer(sparse=False)\n",
    "\n",
    "train_dict = df_train.to_dict(orient='records')\n",
    "X_train = dv.fit_transform(train_dict)\n",
    "\n",
    "val_dict = df_val.to_dict(orient='records')\n",
    "X_val = dv.transform(val_dict)"
   ]
  },
  {
   "cell_type": "code",
   "execution_count": 28,
   "id": "871bf38a",
   "metadata": {},
   "outputs": [],
   "source": [
    "# Get the y variables to be categorical\n",
    "y_train_cat = ( y_train > y_train_mean ).astype(int)\n",
    "y_val_cat = ( y_val > y_train_mean ).astype(int)\n",
    "y_test_cat = ( y_test > y_train_mean ).astype(int)"
   ]
  },
  {
   "cell_type": "code",
   "execution_count": 29,
   "id": "1d61e872",
   "metadata": {},
   "outputs": [
    {
     "data": {
      "text/plain": [
       "LogisticRegression(max_iter=1000, random_state=42, solver='liblinear')"
      ]
     },
     "execution_count": 29,
     "metadata": {},
     "output_type": "execute_result"
    }
   ],
   "source": [
    "# Fit a logistic regression model on the training set\n",
    "\n",
    "from sklearn.linear_model import LogisticRegression\n",
    "\n",
    "model = LogisticRegression(solver=\"liblinear\", C=1.0, max_iter=1000, random_state=42)\n",
    "model.fit(X_train, y_train_cat)"
   ]
  },
  {
   "cell_type": "code",
   "execution_count": 30,
   "id": "fecbcb0c",
   "metadata": {},
   "outputs": [],
   "source": [
    "# Run the model prediction using the validation set\n",
    "y_val_predict = model.predict(X_val)"
   ]
  },
  {
   "cell_type": "code",
   "execution_count": 31,
   "id": "5cb8ddac",
   "metadata": {},
   "outputs": [
    {
     "data": {
      "text/plain": [
       "0.84"
      ]
     },
     "execution_count": 31,
     "metadata": {},
     "output_type": "execute_result"
    }
   ],
   "source": [
    "# Compute accuracy of the model prediction on the validation set.  Answer: accuracy = 0.84\n",
    "accuracy = (y_val_predict == y_val_cat).mean()\n",
    "round(accuracy, 2)"
   ]
  },
  {
   "cell_type": "markdown",
   "id": "f612c439",
   "metadata": {},
   "source": [
    "### Question 5 \n",
    "\n",
    "Let's find the least useful feature using the feature elimination technique.\n",
    "Train a model with all these features (using the same parameters as in Q4). \n",
    "\n",
    "Now exclude each feature from this set and train a model without it. Record the accuracy for each model.\n",
    "For each feature, calculate the difference between the original accuracy and the accuracy without the feature. \n",
    "\n",
    "Which of following feature has the smallest difference?\n",
    "* _total_rooms_\n",
    "* _total_bedrooms_\n",
    "* _population_\n",
    "* _households_ \n",
    "\n",
    "note: the difference doesn't have to be positive"
   ]
  },
  {
   "cell_type": "code",
   "execution_count": 32,
   "id": "b0b4680e",
   "metadata": {},
   "outputs": [],
   "source": [
    "selected_features = ['total_rooms', 'total_bedrooms', 'population','households']\n",
    "#df_train.drop('total_rooms', axis=1)"
   ]
  },
  {
   "cell_type": "code",
   "execution_count": 33,
   "id": "a63436aa",
   "metadata": {},
   "outputs": [
    {
     "data": {
      "text/plain": [
       "[0.8364825581395349,\n",
       " 0.8369670542635659,\n",
       " 0.8263081395348837,\n",
       " 0.8338178294573644]"
      ]
     },
     "execution_count": 33,
     "metadata": {},
     "output_type": "execute_result"
    }
   ],
   "source": [
    "acc_list = []\n",
    "for sf in selected_features:\n",
    "    # drop the feature from the training and validation datasets\n",
    "    df_train_drop = df_train.drop(sf, axis=1)\n",
    "    df_val_drop = df_val.drop(sf, axis=1)\n",
    "    \n",
    "    # one-hot encoding\n",
    "    dv = DictVectorizer(sparse=False)\n",
    "    \n",
    "    train_dict = df_train_drop.to_dict(orient='records')\n",
    "    X_train = dv.fit_transform(train_dict)\n",
    "    \n",
    "    val_dict = df_val_drop.to_dict(orient='records')\n",
    "    X_val = dv.transform(val_dict)\n",
    "    \n",
    "    # fit model on smaller training set\n",
    "    model = LogisticRegression(solver=\"liblinear\", C=1.0, max_iter=1000, random_state=42)\n",
    "    model.fit(X_train, y_train_cat)\n",
    "    \n",
    "    # predictions on validation set\n",
    "    y_val_predict = model.predict(X_val)\n",
    "    \n",
    "    # validation set accuracy\n",
    "    acc = (y_val_predict == y_val_cat).mean()\n",
    "    \n",
    "    acc_list.append(acc)\n",
    "    \n",
    "acc_list    "
   ]
  },
  {
   "cell_type": "code",
   "execution_count": 34,
   "id": "902d02ea",
   "metadata": {},
   "outputs": [
    {
     "data": {
      "text/html": [
       "<div>\n",
       "<style scoped>\n",
       "    .dataframe tbody tr th:only-of-type {\n",
       "        vertical-align: middle;\n",
       "    }\n",
       "\n",
       "    .dataframe tbody tr th {\n",
       "        vertical-align: top;\n",
       "    }\n",
       "\n",
       "    .dataframe thead th {\n",
       "        text-align: right;\n",
       "    }\n",
       "</style>\n",
       "<table border=\"1\" class=\"dataframe\">\n",
       "  <thead>\n",
       "    <tr style=\"text-align: right;\">\n",
       "      <th></th>\n",
       "      <th>0</th>\n",
       "    </tr>\n",
       "  </thead>\n",
       "  <tbody>\n",
       "    <tr>\n",
       "      <th>total_rooms</th>\n",
       "      <td>0.836483</td>\n",
       "    </tr>\n",
       "    <tr>\n",
       "      <th>total_bedrooms</th>\n",
       "      <td>0.836967</td>\n",
       "    </tr>\n",
       "    <tr>\n",
       "      <th>population</th>\n",
       "      <td>0.826308</td>\n",
       "    </tr>\n",
       "    <tr>\n",
       "      <th>households</th>\n",
       "      <td>0.833818</td>\n",
       "    </tr>\n",
       "  </tbody>\n",
       "</table>\n",
       "</div>"
      ],
      "text/plain": [
       "                       0\n",
       "total_rooms     0.836483\n",
       "total_bedrooms  0.836967\n",
       "population      0.826308\n",
       "households      0.833818"
      ]
     },
     "execution_count": 34,
     "metadata": {},
     "output_type": "execute_result"
    }
   ],
   "source": [
    "df_accuracy = pd.DataFrame(acc_list, index=selected_features)\n",
    "df_accuracy"
   ]
  },
  {
   "cell_type": "code",
   "execution_count": 35,
   "id": "061346aa",
   "metadata": {},
   "outputs": [],
   "source": [
    "\n",
    "df_accuracy.columns=['accuracy']\n"
   ]
  },
  {
   "cell_type": "code",
   "execution_count": 36,
   "id": "8db5c320",
   "metadata": {},
   "outputs": [
    {
     "data": {
      "text/html": [
       "<div>\n",
       "<style scoped>\n",
       "    .dataframe tbody tr th:only-of-type {\n",
       "        vertical-align: middle;\n",
       "    }\n",
       "\n",
       "    .dataframe tbody tr th {\n",
       "        vertical-align: top;\n",
       "    }\n",
       "\n",
       "    .dataframe thead th {\n",
       "        text-align: right;\n",
       "    }\n",
       "</style>\n",
       "<table border=\"1\" class=\"dataframe\">\n",
       "  <thead>\n",
       "    <tr style=\"text-align: right;\">\n",
       "      <th></th>\n",
       "      <th>accuracy</th>\n",
       "      <th>diff</th>\n",
       "    </tr>\n",
       "  </thead>\n",
       "  <tbody>\n",
       "    <tr>\n",
       "      <th>total_rooms</th>\n",
       "      <td>0.836483</td>\n",
       "      <td>0.000242</td>\n",
       "    </tr>\n",
       "    <tr>\n",
       "      <th>total_bedrooms</th>\n",
       "      <td>0.836967</td>\n",
       "      <td>-0.000242</td>\n",
       "    </tr>\n",
       "    <tr>\n",
       "      <th>population</th>\n",
       "      <td>0.826308</td>\n",
       "      <td>0.010417</td>\n",
       "    </tr>\n",
       "    <tr>\n",
       "      <th>households</th>\n",
       "      <td>0.833818</td>\n",
       "      <td>0.002907</td>\n",
       "    </tr>\n",
       "  </tbody>\n",
       "</table>\n",
       "</div>"
      ],
      "text/plain": [
       "                accuracy      diff\n",
       "total_rooms     0.836483  0.000242\n",
       "total_bedrooms  0.836967 -0.000242\n",
       "population      0.826308  0.010417\n",
       "households      0.833818  0.002907"
      ]
     },
     "execution_count": 36,
     "metadata": {},
     "output_type": "execute_result"
    }
   ],
   "source": [
    "df_accuracy['diff']=  accuracy - df_accuracy['accuracy']\n",
    "df_accuracy"
   ]
  },
  {
   "cell_type": "code",
   "execution_count": 37,
   "id": "46b0d584",
   "metadata": {},
   "outputs": [],
   "source": [
    "# Answer: total_bedrooms\n",
    "# Although total_rooms and total_bedrooms have the same absolute difference from accuracy of the full model, \n",
    "# I pick total_bedrooms because dropping it causes an increase in accuracy over the full model => it is less useful\n",
    "# than total_rooms (which actually leads to a gain in accuracy when it is added to the model)"
   ]
  },
  {
   "cell_type": "markdown",
   "id": "956f4b56",
   "metadata": {},
   "source": [
    "### Question 6\n",
    "\n",
    "For this question, we'll see how to use a linear regression model from Scikit-Learn\n",
    "We'll need to use the original column 'median_house_value'. \n",
    "Apply the logarithmic transformation to this column.\n",
    "Fit the Ridge regression model (model = Ridge(alpha=a, solver=\"sag\", random_state=42)) on the training data.\n",
    "This model has a parameter alpha. Let's try the following values: \\[0, 0.01, 0.1, 1, 10\\] \n",
    "\n",
    "Which of these alphas leads to the best RMSE on the validation set? Round your RMSE scores to 3 decimal digits.\n",
    "If there are multiple options, select the smallest alpha.\n",
    "\n",
    "Options:\n",
    "\n",
    "* 0\n",
    "* 0.01\n",
    "* 0.1\n",
    "* 1\n",
    "* 10"
   ]
  },
  {
   "cell_type": "code",
   "execution_count": 50,
   "id": "916b396a",
   "metadata": {},
   "outputs": [],
   "source": [
    "# Apply log transformation to response variable\n",
    "y_train_log = np.log1p(y_train.values)\n",
    "y_val_log = np.log1p(y_val.values)\n",
    "y_test_log = np.log1p(y_test.values)"
   ]
  },
  {
   "cell_type": "code",
   "execution_count": 51,
   "id": "0d57f146",
   "metadata": {},
   "outputs": [],
   "source": [
    "# Prepare the feature matrix \n",
    "\n",
    "dv = DictVectorizer(sparse=False)\n",
    "\n",
    "train_dict = df_train.to_dict(orient='records')\n",
    "X_train = dv.fit_transform(train_dict)\n",
    "\n",
    "val_dict = df_val.to_dict(orient='records')\n",
    "X_val = dv.transform(val_dict)"
   ]
  },
  {
   "cell_type": "code",
   "execution_count": 52,
   "id": "0b0d7b35",
   "metadata": {},
   "outputs": [],
   "source": [
    "from sklearn.linear_model import Ridge\n",
    "\n",
    "def rmse(y, y_pred):\n",
    "    se = (y - y_pred) ** 2\n",
    "    mse = se.mean()\n",
    "    return np.sqrt(mse)"
   ]
  },
  {
   "cell_type": "code",
   "execution_count": 53,
   "id": "9f58fd70",
   "metadata": {},
   "outputs": [
    {
     "data": {
      "text/plain": [
       "{0: 0.524, 0.01: 0.524, 0.1: 0.524, 1: 0.524, 10: 0.524}"
      ]
     },
     "execution_count": 53,
     "metadata": {},
     "output_type": "execute_result"
    }
   ],
   "source": [
    "alpha_list = [0, 0.01, 0.1, 1, 10]\n",
    "rmse_dict = {}\n",
    "\n",
    "for val in alpha_list:\n",
    "    # Fit ridge regression model on training data using alpha=val\n",
    "    model = Ridge(alpha=val, solver=\"sag\", random_state=42)\n",
    "    model.fit(X_train, y_train_log)\n",
    "    # Predict on the validation set\n",
    "    y_val_pred = model.predict(X_val)\n",
    "    # Compute rmse\n",
    "    rmse_dict[val]= round( rmse(y_val_pred, y_val_log), 3)\n",
    "    \n",
    "rmse_dict"
   ]
  },
  {
   "cell_type": "code",
   "execution_count": 42,
   "id": "94cb73a2",
   "metadata": {},
   "outputs": [],
   "source": [
    "# Answer: alpha=0 as it is the smallest alpha and all alpha values lead to same value of rmse"
   ]
  },
  {
   "cell_type": "code",
   "execution_count": 49,
   "id": "659691ab",
   "metadata": {},
   "outputs": [
    {
     "data": {
      "text/plain": [
       "(12384, 16)"
      ]
     },
     "execution_count": 49,
     "metadata": {},
     "output_type": "execute_result"
    }
   ],
   "source": [
    "X_train.shape\n"
   ]
  },
  {
   "cell_type": "code",
   "execution_count": null,
   "id": "7c0b2d65",
   "metadata": {},
   "outputs": [],
   "source": []
  }
 ],
 "metadata": {
  "kernelspec": {
   "display_name": "Python 3 (ipykernel)",
   "language": "python",
   "name": "python3"
  },
  "language_info": {
   "codemirror_mode": {
    "name": "ipython",
    "version": 3
   },
   "file_extension": ".py",
   "mimetype": "text/x-python",
   "name": "python",
   "nbconvert_exporter": "python",
   "pygments_lexer": "ipython3",
   "version": "3.9.10"
  }
 },
 "nbformat": 4,
 "nbformat_minor": 5
}
